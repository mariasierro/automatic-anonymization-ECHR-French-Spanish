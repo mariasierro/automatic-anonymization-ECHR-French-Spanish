{
  "nbformat": 4,
  "nbformat_minor": 0,
  "metadata": {
    "colab": {
      "provenance": [],
      "machine_shape": "hm",
      "gpuType": "V100"
    },
    "kernelspec": {
      "name": "python3",
      "display_name": "Python 3"
    },
    "language_info": {
      "name": "python"
    },
    "widgets": {
      "application/vnd.jupyter.widget-state+json": {
        "6f9c1aee45f74f86ba08559398b10cd9": {
          "model_module": "@jupyter-widgets/controls",
          "model_name": "HBoxModel",
          "model_module_version": "1.5.0",
          "state": {
            "_dom_classes": [],
            "_model_module": "@jupyter-widgets/controls",
            "_model_module_version": "1.5.0",
            "_model_name": "HBoxModel",
            "_view_count": null,
            "_view_module": "@jupyter-widgets/controls",
            "_view_module_version": "1.5.0",
            "_view_name": "HBoxView",
            "box_style": "",
            "children": [
              "IPY_MODEL_568b896e34ab4e2185b7acec8ea91c41",
              "IPY_MODEL_5f6045a5b6d4422cb3e99e214e4bea5a",
              "IPY_MODEL_e208d9d49af04c9a918599786679f54c"
            ],
            "layout": "IPY_MODEL_441a11593d634f0b96d2311674683585"
          }
        },
        "568b896e34ab4e2185b7acec8ea91c41": {
          "model_module": "@jupyter-widgets/controls",
          "model_name": "HTMLModel",
          "model_module_version": "1.5.0",
          "state": {
            "_dom_classes": [],
            "_model_module": "@jupyter-widgets/controls",
            "_model_module_version": "1.5.0",
            "_model_name": "HTMLModel",
            "_view_count": null,
            "_view_module": "@jupyter-widgets/controls",
            "_view_module_version": "1.5.0",
            "_view_name": "HTMLView",
            "description": "",
            "description_tooltip": null,
            "layout": "IPY_MODEL_872c6b214c7c40f7b7a932f52b830356",
            "placeholder": "​",
            "style": "IPY_MODEL_29bdf4c6ea634e0fa32ef7ebadfc9609",
            "value": "pytorch_model.bin: 100%"
          }
        },
        "5f6045a5b6d4422cb3e99e214e4bea5a": {
          "model_module": "@jupyter-widgets/controls",
          "model_name": "FloatProgressModel",
          "model_module_version": "1.5.0",
          "state": {
            "_dom_classes": [],
            "_model_module": "@jupyter-widgets/controls",
            "_model_module_version": "1.5.0",
            "_model_name": "FloatProgressModel",
            "_view_count": null,
            "_view_module": "@jupyter-widgets/controls",
            "_view_module_version": "1.5.0",
            "_view_name": "ProgressView",
            "bar_style": "success",
            "description": "",
            "description_tooltip": null,
            "layout": "IPY_MODEL_6ea5e61f6a48437b9cbf1993d2b057d3",
            "max": 1650315958,
            "min": 0,
            "orientation": "horizontal",
            "style": "IPY_MODEL_53c0fde7a96f4cd98f1193d8aeb5124b",
            "value": 1650315958
          }
        },
        "e208d9d49af04c9a918599786679f54c": {
          "model_module": "@jupyter-widgets/controls",
          "model_name": "HTMLModel",
          "model_module_version": "1.5.0",
          "state": {
            "_dom_classes": [],
            "_model_module": "@jupyter-widgets/controls",
            "_model_module_version": "1.5.0",
            "_model_name": "HTMLModel",
            "_view_count": null,
            "_view_module": "@jupyter-widgets/controls",
            "_view_module_version": "1.5.0",
            "_view_name": "HTMLView",
            "description": "",
            "description_tooltip": null,
            "layout": "IPY_MODEL_7b141816452e4eea9ed218e59d916634",
            "placeholder": "​",
            "style": "IPY_MODEL_ce53d8c477a841aa8cb47e5fd7adf214",
            "value": " 1.65G/1.65G [03:48&lt;00:00, 2.21MB/s]"
          }
        },
        "441a11593d634f0b96d2311674683585": {
          "model_module": "@jupyter-widgets/base",
          "model_name": "LayoutModel",
          "model_module_version": "1.2.0",
          "state": {
            "_model_module": "@jupyter-widgets/base",
            "_model_module_version": "1.2.0",
            "_model_name": "LayoutModel",
            "_view_count": null,
            "_view_module": "@jupyter-widgets/base",
            "_view_module_version": "1.2.0",
            "_view_name": "LayoutView",
            "align_content": null,
            "align_items": null,
            "align_self": null,
            "border": null,
            "bottom": null,
            "display": null,
            "flex": null,
            "flex_flow": null,
            "grid_area": null,
            "grid_auto_columns": null,
            "grid_auto_flow": null,
            "grid_auto_rows": null,
            "grid_column": null,
            "grid_gap": null,
            "grid_row": null,
            "grid_template_areas": null,
            "grid_template_columns": null,
            "grid_template_rows": null,
            "height": null,
            "justify_content": null,
            "justify_items": null,
            "left": null,
            "margin": null,
            "max_height": null,
            "max_width": null,
            "min_height": null,
            "min_width": null,
            "object_fit": null,
            "object_position": null,
            "order": null,
            "overflow": null,
            "overflow_x": null,
            "overflow_y": null,
            "padding": null,
            "right": null,
            "top": null,
            "visibility": null,
            "width": null
          }
        },
        "872c6b214c7c40f7b7a932f52b830356": {
          "model_module": "@jupyter-widgets/base",
          "model_name": "LayoutModel",
          "model_module_version": "1.2.0",
          "state": {
            "_model_module": "@jupyter-widgets/base",
            "_model_module_version": "1.2.0",
            "_model_name": "LayoutModel",
            "_view_count": null,
            "_view_module": "@jupyter-widgets/base",
            "_view_module_version": "1.2.0",
            "_view_name": "LayoutView",
            "align_content": null,
            "align_items": null,
            "align_self": null,
            "border": null,
            "bottom": null,
            "display": null,
            "flex": null,
            "flex_flow": null,
            "grid_area": null,
            "grid_auto_columns": null,
            "grid_auto_flow": null,
            "grid_auto_rows": null,
            "grid_column": null,
            "grid_gap": null,
            "grid_row": null,
            "grid_template_areas": null,
            "grid_template_columns": null,
            "grid_template_rows": null,
            "height": null,
            "justify_content": null,
            "justify_items": null,
            "left": null,
            "margin": null,
            "max_height": null,
            "max_width": null,
            "min_height": null,
            "min_width": null,
            "object_fit": null,
            "object_position": null,
            "order": null,
            "overflow": null,
            "overflow_x": null,
            "overflow_y": null,
            "padding": null,
            "right": null,
            "top": null,
            "visibility": null,
            "width": null
          }
        },
        "29bdf4c6ea634e0fa32ef7ebadfc9609": {
          "model_module": "@jupyter-widgets/controls",
          "model_name": "DescriptionStyleModel",
          "model_module_version": "1.5.0",
          "state": {
            "_model_module": "@jupyter-widgets/controls",
            "_model_module_version": "1.5.0",
            "_model_name": "DescriptionStyleModel",
            "_view_count": null,
            "_view_module": "@jupyter-widgets/base",
            "_view_module_version": "1.2.0",
            "_view_name": "StyleView",
            "description_width": ""
          }
        },
        "6ea5e61f6a48437b9cbf1993d2b057d3": {
          "model_module": "@jupyter-widgets/base",
          "model_name": "LayoutModel",
          "model_module_version": "1.2.0",
          "state": {
            "_model_module": "@jupyter-widgets/base",
            "_model_module_version": "1.2.0",
            "_model_name": "LayoutModel",
            "_view_count": null,
            "_view_module": "@jupyter-widgets/base",
            "_view_module_version": "1.2.0",
            "_view_name": "LayoutView",
            "align_content": null,
            "align_items": null,
            "align_self": null,
            "border": null,
            "bottom": null,
            "display": null,
            "flex": null,
            "flex_flow": null,
            "grid_area": null,
            "grid_auto_columns": null,
            "grid_auto_flow": null,
            "grid_auto_rows": null,
            "grid_column": null,
            "grid_gap": null,
            "grid_row": null,
            "grid_template_areas": null,
            "grid_template_columns": null,
            "grid_template_rows": null,
            "height": null,
            "justify_content": null,
            "justify_items": null,
            "left": null,
            "margin": null,
            "max_height": null,
            "max_width": null,
            "min_height": null,
            "min_width": null,
            "object_fit": null,
            "object_position": null,
            "order": null,
            "overflow": null,
            "overflow_x": null,
            "overflow_y": null,
            "padding": null,
            "right": null,
            "top": null,
            "visibility": null,
            "width": null
          }
        },
        "53c0fde7a96f4cd98f1193d8aeb5124b": {
          "model_module": "@jupyter-widgets/controls",
          "model_name": "ProgressStyleModel",
          "model_module_version": "1.5.0",
          "state": {
            "_model_module": "@jupyter-widgets/controls",
            "_model_module_version": "1.5.0",
            "_model_name": "ProgressStyleModel",
            "_view_count": null,
            "_view_module": "@jupyter-widgets/base",
            "_view_module_version": "1.2.0",
            "_view_name": "StyleView",
            "bar_color": null,
            "description_width": ""
          }
        },
        "7b141816452e4eea9ed218e59d916634": {
          "model_module": "@jupyter-widgets/base",
          "model_name": "LayoutModel",
          "model_module_version": "1.2.0",
          "state": {
            "_model_module": "@jupyter-widgets/base",
            "_model_module_version": "1.2.0",
            "_model_name": "LayoutModel",
            "_view_count": null,
            "_view_module": "@jupyter-widgets/base",
            "_view_module_version": "1.2.0",
            "_view_name": "LayoutView",
            "align_content": null,
            "align_items": null,
            "align_self": null,
            "border": null,
            "bottom": null,
            "display": null,
            "flex": null,
            "flex_flow": null,
            "grid_area": null,
            "grid_auto_columns": null,
            "grid_auto_flow": null,
            "grid_auto_rows": null,
            "grid_column": null,
            "grid_gap": null,
            "grid_row": null,
            "grid_template_areas": null,
            "grid_template_columns": null,
            "grid_template_rows": null,
            "height": null,
            "justify_content": null,
            "justify_items": null,
            "left": null,
            "margin": null,
            "max_height": null,
            "max_width": null,
            "min_height": null,
            "min_width": null,
            "object_fit": null,
            "object_position": null,
            "order": null,
            "overflow": null,
            "overflow_x": null,
            "overflow_y": null,
            "padding": null,
            "right": null,
            "top": null,
            "visibility": null,
            "width": null
          }
        },
        "ce53d8c477a841aa8cb47e5fd7adf214": {
          "model_module": "@jupyter-widgets/controls",
          "model_name": "DescriptionStyleModel",
          "model_module_version": "1.5.0",
          "state": {
            "_model_module": "@jupyter-widgets/controls",
            "_model_module_version": "1.5.0",
            "_model_name": "DescriptionStyleModel",
            "_view_count": null,
            "_view_module": "@jupyter-widgets/base",
            "_view_module_version": "1.2.0",
            "_view_name": "StyleView",
            "description_width": ""
          }
        },
        "9defe3cbb5ff40769bfe9e3d771273af": {
          "model_module": "@jupyter-widgets/controls",
          "model_name": "HBoxModel",
          "model_module_version": "1.5.0",
          "state": {
            "_dom_classes": [],
            "_model_module": "@jupyter-widgets/controls",
            "_model_module_version": "1.5.0",
            "_model_name": "HBoxModel",
            "_view_count": null,
            "_view_module": "@jupyter-widgets/controls",
            "_view_module_version": "1.5.0",
            "_view_name": "HBoxView",
            "box_style": "",
            "children": [
              "IPY_MODEL_230a0ecb45294ce391024261ccb32634",
              "IPY_MODEL_65b879aa4840400b83f7b5ca244d24e2",
              "IPY_MODEL_a980e896962d4d0593db847618089640"
            ],
            "layout": "IPY_MODEL_eeeb4ced16ab4e8fafaa47bf5a4f669b"
          }
        },
        "230a0ecb45294ce391024261ccb32634": {
          "model_module": "@jupyter-widgets/controls",
          "model_name": "HTMLModel",
          "model_module_version": "1.5.0",
          "state": {
            "_dom_classes": [],
            "_model_module": "@jupyter-widgets/controls",
            "_model_module_version": "1.5.0",
            "_model_name": "HTMLModel",
            "_view_count": null,
            "_view_module": "@jupyter-widgets/controls",
            "_view_module_version": "1.5.0",
            "_view_name": "HTMLView",
            "description": "",
            "description_tooltip": null,
            "layout": "IPY_MODEL_9a5ed0ffcdea4259b4e41bc77ca53a58",
            "placeholder": "​",
            "style": "IPY_MODEL_0be4778088d24a34895d1ecde5c8a648",
            "value": "pytorch_model.bin: 100%"
          }
        },
        "65b879aa4840400b83f7b5ca244d24e2": {
          "model_module": "@jupyter-widgets/controls",
          "model_name": "FloatProgressModel",
          "model_module_version": "1.5.0",
          "state": {
            "_dom_classes": [],
            "_model_module": "@jupyter-widgets/controls",
            "_model_module_version": "1.5.0",
            "_model_name": "FloatProgressModel",
            "_view_count": null,
            "_view_module": "@jupyter-widgets/controls",
            "_view_module_version": "1.5.0",
            "_view_name": "ProgressView",
            "bar_style": "success",
            "description": "",
            "description_tooltip": null,
            "layout": "IPY_MODEL_c591269212084f8ba4401987ba82ddf6",
            "max": 1296776689,
            "min": 0,
            "orientation": "horizontal",
            "style": "IPY_MODEL_51083224eb624679b6ff4dcbcab3c13c",
            "value": 1296776689
          }
        },
        "a980e896962d4d0593db847618089640": {
          "model_module": "@jupyter-widgets/controls",
          "model_name": "HTMLModel",
          "model_module_version": "1.5.0",
          "state": {
            "_dom_classes": [],
            "_model_module": "@jupyter-widgets/controls",
            "_model_module_version": "1.5.0",
            "_model_name": "HTMLModel",
            "_view_count": null,
            "_view_module": "@jupyter-widgets/controls",
            "_view_module_version": "1.5.0",
            "_view_name": "HTMLView",
            "description": "",
            "description_tooltip": null,
            "layout": "IPY_MODEL_2ff19f0005ee42d9b11b323c83440b22",
            "placeholder": "​",
            "style": "IPY_MODEL_28301ae348aa4e43b10642697e8d8f78",
            "value": " 1.30G/1.30G [00:23&lt;00:00, 54.8MB/s]"
          }
        },
        "eeeb4ced16ab4e8fafaa47bf5a4f669b": {
          "model_module": "@jupyter-widgets/base",
          "model_name": "LayoutModel",
          "model_module_version": "1.2.0",
          "state": {
            "_model_module": "@jupyter-widgets/base",
            "_model_module_version": "1.2.0",
            "_model_name": "LayoutModel",
            "_view_count": null,
            "_view_module": "@jupyter-widgets/base",
            "_view_module_version": "1.2.0",
            "_view_name": "LayoutView",
            "align_content": null,
            "align_items": null,
            "align_self": null,
            "border": null,
            "bottom": null,
            "display": null,
            "flex": null,
            "flex_flow": null,
            "grid_area": null,
            "grid_auto_columns": null,
            "grid_auto_flow": null,
            "grid_auto_rows": null,
            "grid_column": null,
            "grid_gap": null,
            "grid_row": null,
            "grid_template_areas": null,
            "grid_template_columns": null,
            "grid_template_rows": null,
            "height": null,
            "justify_content": null,
            "justify_items": null,
            "left": null,
            "margin": null,
            "max_height": null,
            "max_width": null,
            "min_height": null,
            "min_width": null,
            "object_fit": null,
            "object_position": null,
            "order": null,
            "overflow": null,
            "overflow_x": null,
            "overflow_y": null,
            "padding": null,
            "right": null,
            "top": null,
            "visibility": null,
            "width": null
          }
        },
        "9a5ed0ffcdea4259b4e41bc77ca53a58": {
          "model_module": "@jupyter-widgets/base",
          "model_name": "LayoutModel",
          "model_module_version": "1.2.0",
          "state": {
            "_model_module": "@jupyter-widgets/base",
            "_model_module_version": "1.2.0",
            "_model_name": "LayoutModel",
            "_view_count": null,
            "_view_module": "@jupyter-widgets/base",
            "_view_module_version": "1.2.0",
            "_view_name": "LayoutView",
            "align_content": null,
            "align_items": null,
            "align_self": null,
            "border": null,
            "bottom": null,
            "display": null,
            "flex": null,
            "flex_flow": null,
            "grid_area": null,
            "grid_auto_columns": null,
            "grid_auto_flow": null,
            "grid_auto_rows": null,
            "grid_column": null,
            "grid_gap": null,
            "grid_row": null,
            "grid_template_areas": null,
            "grid_template_columns": null,
            "grid_template_rows": null,
            "height": null,
            "justify_content": null,
            "justify_items": null,
            "left": null,
            "margin": null,
            "max_height": null,
            "max_width": null,
            "min_height": null,
            "min_width": null,
            "object_fit": null,
            "object_position": null,
            "order": null,
            "overflow": null,
            "overflow_x": null,
            "overflow_y": null,
            "padding": null,
            "right": null,
            "top": null,
            "visibility": null,
            "width": null
          }
        },
        "0be4778088d24a34895d1ecde5c8a648": {
          "model_module": "@jupyter-widgets/controls",
          "model_name": "DescriptionStyleModel",
          "model_module_version": "1.5.0",
          "state": {
            "_model_module": "@jupyter-widgets/controls",
            "_model_module_version": "1.5.0",
            "_model_name": "DescriptionStyleModel",
            "_view_count": null,
            "_view_module": "@jupyter-widgets/base",
            "_view_module_version": "1.2.0",
            "_view_name": "StyleView",
            "description_width": ""
          }
        },
        "c591269212084f8ba4401987ba82ddf6": {
          "model_module": "@jupyter-widgets/base",
          "model_name": "LayoutModel",
          "model_module_version": "1.2.0",
          "state": {
            "_model_module": "@jupyter-widgets/base",
            "_model_module_version": "1.2.0",
            "_model_name": "LayoutModel",
            "_view_count": null,
            "_view_module": "@jupyter-widgets/base",
            "_view_module_version": "1.2.0",
            "_view_name": "LayoutView",
            "align_content": null,
            "align_items": null,
            "align_self": null,
            "border": null,
            "bottom": null,
            "display": null,
            "flex": null,
            "flex_flow": null,
            "grid_area": null,
            "grid_auto_columns": null,
            "grid_auto_flow": null,
            "grid_auto_rows": null,
            "grid_column": null,
            "grid_gap": null,
            "grid_row": null,
            "grid_template_areas": null,
            "grid_template_columns": null,
            "grid_template_rows": null,
            "height": null,
            "justify_content": null,
            "justify_items": null,
            "left": null,
            "margin": null,
            "max_height": null,
            "max_width": null,
            "min_height": null,
            "min_width": null,
            "object_fit": null,
            "object_position": null,
            "order": null,
            "overflow": null,
            "overflow_x": null,
            "overflow_y": null,
            "padding": null,
            "right": null,
            "top": null,
            "visibility": null,
            "width": null
          }
        },
        "51083224eb624679b6ff4dcbcab3c13c": {
          "model_module": "@jupyter-widgets/controls",
          "model_name": "ProgressStyleModel",
          "model_module_version": "1.5.0",
          "state": {
            "_model_module": "@jupyter-widgets/controls",
            "_model_module_version": "1.5.0",
            "_model_name": "ProgressStyleModel",
            "_view_count": null,
            "_view_module": "@jupyter-widgets/base",
            "_view_module_version": "1.2.0",
            "_view_name": "StyleView",
            "bar_color": null,
            "description_width": ""
          }
        },
        "2ff19f0005ee42d9b11b323c83440b22": {
          "model_module": "@jupyter-widgets/base",
          "model_name": "LayoutModel",
          "model_module_version": "1.2.0",
          "state": {
            "_model_module": "@jupyter-widgets/base",
            "_model_module_version": "1.2.0",
            "_model_name": "LayoutModel",
            "_view_count": null,
            "_view_module": "@jupyter-widgets/base",
            "_view_module_version": "1.2.0",
            "_view_name": "LayoutView",
            "align_content": null,
            "align_items": null,
            "align_self": null,
            "border": null,
            "bottom": null,
            "display": null,
            "flex": null,
            "flex_flow": null,
            "grid_area": null,
            "grid_auto_columns": null,
            "grid_auto_flow": null,
            "grid_auto_rows": null,
            "grid_column": null,
            "grid_gap": null,
            "grid_row": null,
            "grid_template_areas": null,
            "grid_template_columns": null,
            "grid_template_rows": null,
            "height": null,
            "justify_content": null,
            "justify_items": null,
            "left": null,
            "margin": null,
            "max_height": null,
            "max_width": null,
            "min_height": null,
            "min_width": null,
            "object_fit": null,
            "object_position": null,
            "order": null,
            "overflow": null,
            "overflow_x": null,
            "overflow_y": null,
            "padding": null,
            "right": null,
            "top": null,
            "visibility": null,
            "width": null
          }
        },
        "28301ae348aa4e43b10642697e8d8f78": {
          "model_module": "@jupyter-widgets/controls",
          "model_name": "DescriptionStyleModel",
          "model_module_version": "1.5.0",
          "state": {
            "_model_module": "@jupyter-widgets/controls",
            "_model_module_version": "1.5.0",
            "_model_name": "DescriptionStyleModel",
            "_view_count": null,
            "_view_module": "@jupyter-widgets/base",
            "_view_module_version": "1.2.0",
            "_view_name": "StyleView",
            "description_width": ""
          }
        },
        "538f2180a5e34cd39adfd640b601c48b": {
          "model_module": "@jupyter-widgets/controls",
          "model_name": "HBoxModel",
          "model_module_version": "1.5.0",
          "state": {
            "_dom_classes": [],
            "_model_module": "@jupyter-widgets/controls",
            "_model_module_version": "1.5.0",
            "_model_name": "HBoxModel",
            "_view_count": null,
            "_view_module": "@jupyter-widgets/controls",
            "_view_module_version": "1.5.0",
            "_view_name": "HBoxView",
            "box_style": "",
            "children": [
              "IPY_MODEL_e53604b776764a3eaca3bef397e9d585",
              "IPY_MODEL_dca30fb6ae434e7da25b6076670844e5",
              "IPY_MODEL_223f9b59e79c473290b002cf53f59235"
            ],
            "layout": "IPY_MODEL_261c2259ec4f4f74acb8718d830c094f"
          }
        },
        "e53604b776764a3eaca3bef397e9d585": {
          "model_module": "@jupyter-widgets/controls",
          "model_name": "HTMLModel",
          "model_module_version": "1.5.0",
          "state": {
            "_dom_classes": [],
            "_model_module": "@jupyter-widgets/controls",
            "_model_module_version": "1.5.0",
            "_model_name": "HTMLModel",
            "_view_count": null,
            "_view_module": "@jupyter-widgets/controls",
            "_view_module_version": "1.5.0",
            "_view_name": "HTMLView",
            "description": "",
            "description_tooltip": null,
            "layout": "IPY_MODEL_faddd0a8be7f4957bb47799926ed21f3",
            "placeholder": "​",
            "style": "IPY_MODEL_3cfbed0ea1864a95b44371d4f7547b27",
            "value": "pytorch_model.bin: 100%"
          }
        },
        "dca30fb6ae434e7da25b6076670844e5": {
          "model_module": "@jupyter-widgets/controls",
          "model_name": "FloatProgressModel",
          "model_module_version": "1.5.0",
          "state": {
            "_dom_classes": [],
            "_model_module": "@jupyter-widgets/controls",
            "_model_module_version": "1.5.0",
            "_model_name": "FloatProgressModel",
            "_view_count": null,
            "_view_module": "@jupyter-widgets/controls",
            "_view_module_version": "1.5.0",
            "_view_name": "ProgressView",
            "bar_style": "success",
            "description": "",
            "description_tooltip": null,
            "layout": "IPY_MODEL_40e98236d9f94083b36c00cbb36dadea",
            "max": 1296815409,
            "min": 0,
            "orientation": "horizontal",
            "style": "IPY_MODEL_829cafcf88ed4d3185cb90f39a364a69",
            "value": 1296815409
          }
        },
        "223f9b59e79c473290b002cf53f59235": {
          "model_module": "@jupyter-widgets/controls",
          "model_name": "HTMLModel",
          "model_module_version": "1.5.0",
          "state": {
            "_dom_classes": [],
            "_model_module": "@jupyter-widgets/controls",
            "_model_module_version": "1.5.0",
            "_model_name": "HTMLModel",
            "_view_count": null,
            "_view_module": "@jupyter-widgets/controls",
            "_view_module_version": "1.5.0",
            "_view_name": "HTMLView",
            "description": "",
            "description_tooltip": null,
            "layout": "IPY_MODEL_474776e14f8543258a4d016bb7d86f52",
            "placeholder": "​",
            "style": "IPY_MODEL_cfc92c84ebf74887a5cb487601b2bf42",
            "value": " 1.30G/1.30G [00:27&lt;00:00, 41.4MB/s]"
          }
        },
        "261c2259ec4f4f74acb8718d830c094f": {
          "model_module": "@jupyter-widgets/base",
          "model_name": "LayoutModel",
          "model_module_version": "1.2.0",
          "state": {
            "_model_module": "@jupyter-widgets/base",
            "_model_module_version": "1.2.0",
            "_model_name": "LayoutModel",
            "_view_count": null,
            "_view_module": "@jupyter-widgets/base",
            "_view_module_version": "1.2.0",
            "_view_name": "LayoutView",
            "align_content": null,
            "align_items": null,
            "align_self": null,
            "border": null,
            "bottom": null,
            "display": null,
            "flex": null,
            "flex_flow": null,
            "grid_area": null,
            "grid_auto_columns": null,
            "grid_auto_flow": null,
            "grid_auto_rows": null,
            "grid_column": null,
            "grid_gap": null,
            "grid_row": null,
            "grid_template_areas": null,
            "grid_template_columns": null,
            "grid_template_rows": null,
            "height": null,
            "justify_content": null,
            "justify_items": null,
            "left": null,
            "margin": null,
            "max_height": null,
            "max_width": null,
            "min_height": null,
            "min_width": null,
            "object_fit": null,
            "object_position": null,
            "order": null,
            "overflow": null,
            "overflow_x": null,
            "overflow_y": null,
            "padding": null,
            "right": null,
            "top": null,
            "visibility": null,
            "width": null
          }
        },
        "faddd0a8be7f4957bb47799926ed21f3": {
          "model_module": "@jupyter-widgets/base",
          "model_name": "LayoutModel",
          "model_module_version": "1.2.0",
          "state": {
            "_model_module": "@jupyter-widgets/base",
            "_model_module_version": "1.2.0",
            "_model_name": "LayoutModel",
            "_view_count": null,
            "_view_module": "@jupyter-widgets/base",
            "_view_module_version": "1.2.0",
            "_view_name": "LayoutView",
            "align_content": null,
            "align_items": null,
            "align_self": null,
            "border": null,
            "bottom": null,
            "display": null,
            "flex": null,
            "flex_flow": null,
            "grid_area": null,
            "grid_auto_columns": null,
            "grid_auto_flow": null,
            "grid_auto_rows": null,
            "grid_column": null,
            "grid_gap": null,
            "grid_row": null,
            "grid_template_areas": null,
            "grid_template_columns": null,
            "grid_template_rows": null,
            "height": null,
            "justify_content": null,
            "justify_items": null,
            "left": null,
            "margin": null,
            "max_height": null,
            "max_width": null,
            "min_height": null,
            "min_width": null,
            "object_fit": null,
            "object_position": null,
            "order": null,
            "overflow": null,
            "overflow_x": null,
            "overflow_y": null,
            "padding": null,
            "right": null,
            "top": null,
            "visibility": null,
            "width": null
          }
        },
        "3cfbed0ea1864a95b44371d4f7547b27": {
          "model_module": "@jupyter-widgets/controls",
          "model_name": "DescriptionStyleModel",
          "model_module_version": "1.5.0",
          "state": {
            "_model_module": "@jupyter-widgets/controls",
            "_model_module_version": "1.5.0",
            "_model_name": "DescriptionStyleModel",
            "_view_count": null,
            "_view_module": "@jupyter-widgets/base",
            "_view_module_version": "1.2.0",
            "_view_name": "StyleView",
            "description_width": ""
          }
        },
        "40e98236d9f94083b36c00cbb36dadea": {
          "model_module": "@jupyter-widgets/base",
          "model_name": "LayoutModel",
          "model_module_version": "1.2.0",
          "state": {
            "_model_module": "@jupyter-widgets/base",
            "_model_module_version": "1.2.0",
            "_model_name": "LayoutModel",
            "_view_count": null,
            "_view_module": "@jupyter-widgets/base",
            "_view_module_version": "1.2.0",
            "_view_name": "LayoutView",
            "align_content": null,
            "align_items": null,
            "align_self": null,
            "border": null,
            "bottom": null,
            "display": null,
            "flex": null,
            "flex_flow": null,
            "grid_area": null,
            "grid_auto_columns": null,
            "grid_auto_flow": null,
            "grid_auto_rows": null,
            "grid_column": null,
            "grid_gap": null,
            "grid_row": null,
            "grid_template_areas": null,
            "grid_template_columns": null,
            "grid_template_rows": null,
            "height": null,
            "justify_content": null,
            "justify_items": null,
            "left": null,
            "margin": null,
            "max_height": null,
            "max_width": null,
            "min_height": null,
            "min_width": null,
            "object_fit": null,
            "object_position": null,
            "order": null,
            "overflow": null,
            "overflow_x": null,
            "overflow_y": null,
            "padding": null,
            "right": null,
            "top": null,
            "visibility": null,
            "width": null
          }
        },
        "829cafcf88ed4d3185cb90f39a364a69": {
          "model_module": "@jupyter-widgets/controls",
          "model_name": "ProgressStyleModel",
          "model_module_version": "1.5.0",
          "state": {
            "_model_module": "@jupyter-widgets/controls",
            "_model_module_version": "1.5.0",
            "_model_name": "ProgressStyleModel",
            "_view_count": null,
            "_view_module": "@jupyter-widgets/base",
            "_view_module_version": "1.2.0",
            "_view_name": "StyleView",
            "bar_color": null,
            "description_width": ""
          }
        },
        "474776e14f8543258a4d016bb7d86f52": {
          "model_module": "@jupyter-widgets/base",
          "model_name": "LayoutModel",
          "model_module_version": "1.2.0",
          "state": {
            "_model_module": "@jupyter-widgets/base",
            "_model_module_version": "1.2.0",
            "_model_name": "LayoutModel",
            "_view_count": null,
            "_view_module": "@jupyter-widgets/base",
            "_view_module_version": "1.2.0",
            "_view_name": "LayoutView",
            "align_content": null,
            "align_items": null,
            "align_self": null,
            "border": null,
            "bottom": null,
            "display": null,
            "flex": null,
            "flex_flow": null,
            "grid_area": null,
            "grid_auto_columns": null,
            "grid_auto_flow": null,
            "grid_auto_rows": null,
            "grid_column": null,
            "grid_gap": null,
            "grid_row": null,
            "grid_template_areas": null,
            "grid_template_columns": null,
            "grid_template_rows": null,
            "height": null,
            "justify_content": null,
            "justify_items": null,
            "left": null,
            "margin": null,
            "max_height": null,
            "max_width": null,
            "min_height": null,
            "min_width": null,
            "object_fit": null,
            "object_position": null,
            "order": null,
            "overflow": null,
            "overflow_x": null,
            "overflow_y": null,
            "padding": null,
            "right": null,
            "top": null,
            "visibility": null,
            "width": null
          }
        },
        "cfc92c84ebf74887a5cb487601b2bf42": {
          "model_module": "@jupyter-widgets/controls",
          "model_name": "DescriptionStyleModel",
          "model_module_version": "1.5.0",
          "state": {
            "_model_module": "@jupyter-widgets/controls",
            "_model_module_version": "1.5.0",
            "_model_name": "DescriptionStyleModel",
            "_view_count": null,
            "_view_module": "@jupyter-widgets/base",
            "_view_module_version": "1.2.0",
            "_view_name": "StyleView",
            "description_width": ""
          }
        },
        "5617ef4027c44b8ab79522744bbcc4f5": {
          "model_module": "@jupyter-widgets/controls",
          "model_name": "HBoxModel",
          "model_module_version": "1.5.0",
          "state": {
            "_dom_classes": [],
            "_model_module": "@jupyter-widgets/controls",
            "_model_module_version": "1.5.0",
            "_model_name": "HBoxModel",
            "_view_count": null,
            "_view_module": "@jupyter-widgets/controls",
            "_view_module_version": "1.5.0",
            "_view_name": "HBoxView",
            "box_style": "",
            "children": [
              "IPY_MODEL_272ed99ce60c4935a1704c46758a5461",
              "IPY_MODEL_a7f193446575418a90710f1fd795c1c2",
              "IPY_MODEL_bca0a352013c4619adb4891c653221bc"
            ],
            "layout": "IPY_MODEL_48dca8d296e34f17bec1670796a81088"
          }
        },
        "272ed99ce60c4935a1704c46758a5461": {
          "model_module": "@jupyter-widgets/controls",
          "model_name": "HTMLModel",
          "model_module_version": "1.5.0",
          "state": {
            "_dom_classes": [],
            "_model_module": "@jupyter-widgets/controls",
            "_model_module_version": "1.5.0",
            "_model_name": "HTMLModel",
            "_view_count": null,
            "_view_module": "@jupyter-widgets/controls",
            "_view_module_version": "1.5.0",
            "_view_name": "HTMLView",
            "description": "",
            "description_tooltip": null,
            "layout": "IPY_MODEL_0314fe188a434ca3b944042d34ab4f7b",
            "placeholder": "​",
            "style": "IPY_MODEL_0a6eac8f589a41538977e61a37fe80e9",
            "value": "pytorch_model.bin: 100%"
          }
        },
        "a7f193446575418a90710f1fd795c1c2": {
          "model_module": "@jupyter-widgets/controls",
          "model_name": "FloatProgressModel",
          "model_module_version": "1.5.0",
          "state": {
            "_dom_classes": [],
            "_model_module": "@jupyter-widgets/controls",
            "_model_module_version": "1.5.0",
            "_model_name": "FloatProgressModel",
            "_view_count": null,
            "_view_module": "@jupyter-widgets/controls",
            "_view_module_version": "1.5.0",
            "_view_name": "ProgressView",
            "bar_style": "success",
            "description": "",
            "description_tooltip": null,
            "layout": "IPY_MODEL_58d4b21773994f65b2fc3bfb43e8aac2",
            "max": 1650316022,
            "min": 0,
            "orientation": "horizontal",
            "style": "IPY_MODEL_3da8d67d22d745f0bb61450b0820f26f",
            "value": 1650316022
          }
        },
        "bca0a352013c4619adb4891c653221bc": {
          "model_module": "@jupyter-widgets/controls",
          "model_name": "HTMLModel",
          "model_module_version": "1.5.0",
          "state": {
            "_dom_classes": [],
            "_model_module": "@jupyter-widgets/controls",
            "_model_module_version": "1.5.0",
            "_model_name": "HTMLModel",
            "_view_count": null,
            "_view_module": "@jupyter-widgets/controls",
            "_view_module_version": "1.5.0",
            "_view_name": "HTMLView",
            "description": "",
            "description_tooltip": null,
            "layout": "IPY_MODEL_ffa0cc6e3d5c4b65960cc0a02ef04e61",
            "placeholder": "​",
            "style": "IPY_MODEL_519a08ac583546809f96a1d686ab9f14",
            "value": " 1.65G/1.65G [00:05&lt;00:00, 282MB/s]"
          }
        },
        "48dca8d296e34f17bec1670796a81088": {
          "model_module": "@jupyter-widgets/base",
          "model_name": "LayoutModel",
          "model_module_version": "1.2.0",
          "state": {
            "_model_module": "@jupyter-widgets/base",
            "_model_module_version": "1.2.0",
            "_model_name": "LayoutModel",
            "_view_count": null,
            "_view_module": "@jupyter-widgets/base",
            "_view_module_version": "1.2.0",
            "_view_name": "LayoutView",
            "align_content": null,
            "align_items": null,
            "align_self": null,
            "border": null,
            "bottom": null,
            "display": null,
            "flex": null,
            "flex_flow": null,
            "grid_area": null,
            "grid_auto_columns": null,
            "grid_auto_flow": null,
            "grid_auto_rows": null,
            "grid_column": null,
            "grid_gap": null,
            "grid_row": null,
            "grid_template_areas": null,
            "grid_template_columns": null,
            "grid_template_rows": null,
            "height": null,
            "justify_content": null,
            "justify_items": null,
            "left": null,
            "margin": null,
            "max_height": null,
            "max_width": null,
            "min_height": null,
            "min_width": null,
            "object_fit": null,
            "object_position": null,
            "order": null,
            "overflow": null,
            "overflow_x": null,
            "overflow_y": null,
            "padding": null,
            "right": null,
            "top": null,
            "visibility": null,
            "width": null
          }
        },
        "0314fe188a434ca3b944042d34ab4f7b": {
          "model_module": "@jupyter-widgets/base",
          "model_name": "LayoutModel",
          "model_module_version": "1.2.0",
          "state": {
            "_model_module": "@jupyter-widgets/base",
            "_model_module_version": "1.2.0",
            "_model_name": "LayoutModel",
            "_view_count": null,
            "_view_module": "@jupyter-widgets/base",
            "_view_module_version": "1.2.0",
            "_view_name": "LayoutView",
            "align_content": null,
            "align_items": null,
            "align_self": null,
            "border": null,
            "bottom": null,
            "display": null,
            "flex": null,
            "flex_flow": null,
            "grid_area": null,
            "grid_auto_columns": null,
            "grid_auto_flow": null,
            "grid_auto_rows": null,
            "grid_column": null,
            "grid_gap": null,
            "grid_row": null,
            "grid_template_areas": null,
            "grid_template_columns": null,
            "grid_template_rows": null,
            "height": null,
            "justify_content": null,
            "justify_items": null,
            "left": null,
            "margin": null,
            "max_height": null,
            "max_width": null,
            "min_height": null,
            "min_width": null,
            "object_fit": null,
            "object_position": null,
            "order": null,
            "overflow": null,
            "overflow_x": null,
            "overflow_y": null,
            "padding": null,
            "right": null,
            "top": null,
            "visibility": null,
            "width": null
          }
        },
        "0a6eac8f589a41538977e61a37fe80e9": {
          "model_module": "@jupyter-widgets/controls",
          "model_name": "DescriptionStyleModel",
          "model_module_version": "1.5.0",
          "state": {
            "_model_module": "@jupyter-widgets/controls",
            "_model_module_version": "1.5.0",
            "_model_name": "DescriptionStyleModel",
            "_view_count": null,
            "_view_module": "@jupyter-widgets/base",
            "_view_module_version": "1.2.0",
            "_view_name": "StyleView",
            "description_width": ""
          }
        },
        "58d4b21773994f65b2fc3bfb43e8aac2": {
          "model_module": "@jupyter-widgets/base",
          "model_name": "LayoutModel",
          "model_module_version": "1.2.0",
          "state": {
            "_model_module": "@jupyter-widgets/base",
            "_model_module_version": "1.2.0",
            "_model_name": "LayoutModel",
            "_view_count": null,
            "_view_module": "@jupyter-widgets/base",
            "_view_module_version": "1.2.0",
            "_view_name": "LayoutView",
            "align_content": null,
            "align_items": null,
            "align_self": null,
            "border": null,
            "bottom": null,
            "display": null,
            "flex": null,
            "flex_flow": null,
            "grid_area": null,
            "grid_auto_columns": null,
            "grid_auto_flow": null,
            "grid_auto_rows": null,
            "grid_column": null,
            "grid_gap": null,
            "grid_row": null,
            "grid_template_areas": null,
            "grid_template_columns": null,
            "grid_template_rows": null,
            "height": null,
            "justify_content": null,
            "justify_items": null,
            "left": null,
            "margin": null,
            "max_height": null,
            "max_width": null,
            "min_height": null,
            "min_width": null,
            "object_fit": null,
            "object_position": null,
            "order": null,
            "overflow": null,
            "overflow_x": null,
            "overflow_y": null,
            "padding": null,
            "right": null,
            "top": null,
            "visibility": null,
            "width": null
          }
        },
        "3da8d67d22d745f0bb61450b0820f26f": {
          "model_module": "@jupyter-widgets/controls",
          "model_name": "ProgressStyleModel",
          "model_module_version": "1.5.0",
          "state": {
            "_model_module": "@jupyter-widgets/controls",
            "_model_module_version": "1.5.0",
            "_model_name": "ProgressStyleModel",
            "_view_count": null,
            "_view_module": "@jupyter-widgets/base",
            "_view_module_version": "1.2.0",
            "_view_name": "StyleView",
            "bar_color": null,
            "description_width": ""
          }
        },
        "ffa0cc6e3d5c4b65960cc0a02ef04e61": {
          "model_module": "@jupyter-widgets/base",
          "model_name": "LayoutModel",
          "model_module_version": "1.2.0",
          "state": {
            "_model_module": "@jupyter-widgets/base",
            "_model_module_version": "1.2.0",
            "_model_name": "LayoutModel",
            "_view_count": null,
            "_view_module": "@jupyter-widgets/base",
            "_view_module_version": "1.2.0",
            "_view_name": "LayoutView",
            "align_content": null,
            "align_items": null,
            "align_self": null,
            "border": null,
            "bottom": null,
            "display": null,
            "flex": null,
            "flex_flow": null,
            "grid_area": null,
            "grid_auto_columns": null,
            "grid_auto_flow": null,
            "grid_auto_rows": null,
            "grid_column": null,
            "grid_gap": null,
            "grid_row": null,
            "grid_template_areas": null,
            "grid_template_columns": null,
            "grid_template_rows": null,
            "height": null,
            "justify_content": null,
            "justify_items": null,
            "left": null,
            "margin": null,
            "max_height": null,
            "max_width": null,
            "min_height": null,
            "min_width": null,
            "object_fit": null,
            "object_position": null,
            "order": null,
            "overflow": null,
            "overflow_x": null,
            "overflow_y": null,
            "padding": null,
            "right": null,
            "top": null,
            "visibility": null,
            "width": null
          }
        },
        "519a08ac583546809f96a1d686ab9f14": {
          "model_module": "@jupyter-widgets/controls",
          "model_name": "DescriptionStyleModel",
          "model_module_version": "1.5.0",
          "state": {
            "_model_module": "@jupyter-widgets/controls",
            "_model_module_version": "1.5.0",
            "_model_name": "DescriptionStyleModel",
            "_view_count": null,
            "_view_module": "@jupyter-widgets/base",
            "_view_module_version": "1.2.0",
            "_view_name": "StyleView",
            "description_width": ""
          }
        },
        "1d4f5bc023fe43bda01c0f12c23ae242": {
          "model_module": "@jupyter-widgets/controls",
          "model_name": "HBoxModel",
          "model_module_version": "1.5.0",
          "state": {
            "_dom_classes": [],
            "_model_module": "@jupyter-widgets/controls",
            "_model_module_version": "1.5.0",
            "_model_name": "HBoxModel",
            "_view_count": null,
            "_view_module": "@jupyter-widgets/controls",
            "_view_module_version": "1.5.0",
            "_view_name": "HBoxView",
            "box_style": "",
            "children": [
              "IPY_MODEL_0cd1647c521f486a87c2c73a44e0e73b",
              "IPY_MODEL_07573c70553e47b3861d8ec9a13cbaf0",
              "IPY_MODEL_02093fa70c484378858557355182b725"
            ],
            "layout": "IPY_MODEL_dcee8d797780461aa0f323e47451ea4d"
          }
        },
        "0cd1647c521f486a87c2c73a44e0e73b": {
          "model_module": "@jupyter-widgets/controls",
          "model_name": "HTMLModel",
          "model_module_version": "1.5.0",
          "state": {
            "_dom_classes": [],
            "_model_module": "@jupyter-widgets/controls",
            "_model_module_version": "1.5.0",
            "_model_name": "HTMLModel",
            "_view_count": null,
            "_view_module": "@jupyter-widgets/controls",
            "_view_module_version": "1.5.0",
            "_view_name": "HTMLView",
            "description": "",
            "description_tooltip": null,
            "layout": "IPY_MODEL_b9a524023d3a4a1b9435a08e1e578072",
            "placeholder": "​",
            "style": "IPY_MODEL_1d2858384d4745e5966721af2afaf98d",
            "value": "pytorch_model.bin: 100%"
          }
        },
        "07573c70553e47b3861d8ec9a13cbaf0": {
          "model_module": "@jupyter-widgets/controls",
          "model_name": "FloatProgressModel",
          "model_module_version": "1.5.0",
          "state": {
            "_dom_classes": [],
            "_model_module": "@jupyter-widgets/controls",
            "_model_module_version": "1.5.0",
            "_model_name": "FloatProgressModel",
            "_view_count": null,
            "_view_module": "@jupyter-widgets/controls",
            "_view_module_version": "1.5.0",
            "_view_name": "ProgressView",
            "bar_style": "success",
            "description": "",
            "description_tooltip": null,
            "layout": "IPY_MODEL_b44e1eb99ef3408fa35c581ab4350066",
            "max": 1296776689,
            "min": 0,
            "orientation": "horizontal",
            "style": "IPY_MODEL_3f5e81449b3b4754900947ba87942d9f",
            "value": 1296776689
          }
        },
        "02093fa70c484378858557355182b725": {
          "model_module": "@jupyter-widgets/controls",
          "model_name": "HTMLModel",
          "model_module_version": "1.5.0",
          "state": {
            "_dom_classes": [],
            "_model_module": "@jupyter-widgets/controls",
            "_model_module_version": "1.5.0",
            "_model_name": "HTMLModel",
            "_view_count": null,
            "_view_module": "@jupyter-widgets/controls",
            "_view_module_version": "1.5.0",
            "_view_name": "HTMLView",
            "description": "",
            "description_tooltip": null,
            "layout": "IPY_MODEL_1f3fedaec93b4e1dbf841d1806947492",
            "placeholder": "​",
            "style": "IPY_MODEL_e1f8dc7ca68d4f3f96dfa286f77cf2ca",
            "value": " 1.30G/1.30G [00:23&lt;00:00, 57.5MB/s]"
          }
        },
        "dcee8d797780461aa0f323e47451ea4d": {
          "model_module": "@jupyter-widgets/base",
          "model_name": "LayoutModel",
          "model_module_version": "1.2.0",
          "state": {
            "_model_module": "@jupyter-widgets/base",
            "_model_module_version": "1.2.0",
            "_model_name": "LayoutModel",
            "_view_count": null,
            "_view_module": "@jupyter-widgets/base",
            "_view_module_version": "1.2.0",
            "_view_name": "LayoutView",
            "align_content": null,
            "align_items": null,
            "align_self": null,
            "border": null,
            "bottom": null,
            "display": null,
            "flex": null,
            "flex_flow": null,
            "grid_area": null,
            "grid_auto_columns": null,
            "grid_auto_flow": null,
            "grid_auto_rows": null,
            "grid_column": null,
            "grid_gap": null,
            "grid_row": null,
            "grid_template_areas": null,
            "grid_template_columns": null,
            "grid_template_rows": null,
            "height": null,
            "justify_content": null,
            "justify_items": null,
            "left": null,
            "margin": null,
            "max_height": null,
            "max_width": null,
            "min_height": null,
            "min_width": null,
            "object_fit": null,
            "object_position": null,
            "order": null,
            "overflow": null,
            "overflow_x": null,
            "overflow_y": null,
            "padding": null,
            "right": null,
            "top": null,
            "visibility": null,
            "width": null
          }
        },
        "b9a524023d3a4a1b9435a08e1e578072": {
          "model_module": "@jupyter-widgets/base",
          "model_name": "LayoutModel",
          "model_module_version": "1.2.0",
          "state": {
            "_model_module": "@jupyter-widgets/base",
            "_model_module_version": "1.2.0",
            "_model_name": "LayoutModel",
            "_view_count": null,
            "_view_module": "@jupyter-widgets/base",
            "_view_module_version": "1.2.0",
            "_view_name": "LayoutView",
            "align_content": null,
            "align_items": null,
            "align_self": null,
            "border": null,
            "bottom": null,
            "display": null,
            "flex": null,
            "flex_flow": null,
            "grid_area": null,
            "grid_auto_columns": null,
            "grid_auto_flow": null,
            "grid_auto_rows": null,
            "grid_column": null,
            "grid_gap": null,
            "grid_row": null,
            "grid_template_areas": null,
            "grid_template_columns": null,
            "grid_template_rows": null,
            "height": null,
            "justify_content": null,
            "justify_items": null,
            "left": null,
            "margin": null,
            "max_height": null,
            "max_width": null,
            "min_height": null,
            "min_width": null,
            "object_fit": null,
            "object_position": null,
            "order": null,
            "overflow": null,
            "overflow_x": null,
            "overflow_y": null,
            "padding": null,
            "right": null,
            "top": null,
            "visibility": null,
            "width": null
          }
        },
        "1d2858384d4745e5966721af2afaf98d": {
          "model_module": "@jupyter-widgets/controls",
          "model_name": "DescriptionStyleModel",
          "model_module_version": "1.5.0",
          "state": {
            "_model_module": "@jupyter-widgets/controls",
            "_model_module_version": "1.5.0",
            "_model_name": "DescriptionStyleModel",
            "_view_count": null,
            "_view_module": "@jupyter-widgets/base",
            "_view_module_version": "1.2.0",
            "_view_name": "StyleView",
            "description_width": ""
          }
        },
        "b44e1eb99ef3408fa35c581ab4350066": {
          "model_module": "@jupyter-widgets/base",
          "model_name": "LayoutModel",
          "model_module_version": "1.2.0",
          "state": {
            "_model_module": "@jupyter-widgets/base",
            "_model_module_version": "1.2.0",
            "_model_name": "LayoutModel",
            "_view_count": null,
            "_view_module": "@jupyter-widgets/base",
            "_view_module_version": "1.2.0",
            "_view_name": "LayoutView",
            "align_content": null,
            "align_items": null,
            "align_self": null,
            "border": null,
            "bottom": null,
            "display": null,
            "flex": null,
            "flex_flow": null,
            "grid_area": null,
            "grid_auto_columns": null,
            "grid_auto_flow": null,
            "grid_auto_rows": null,
            "grid_column": null,
            "grid_gap": null,
            "grid_row": null,
            "grid_template_areas": null,
            "grid_template_columns": null,
            "grid_template_rows": null,
            "height": null,
            "justify_content": null,
            "justify_items": null,
            "left": null,
            "margin": null,
            "max_height": null,
            "max_width": null,
            "min_height": null,
            "min_width": null,
            "object_fit": null,
            "object_position": null,
            "order": null,
            "overflow": null,
            "overflow_x": null,
            "overflow_y": null,
            "padding": null,
            "right": null,
            "top": null,
            "visibility": null,
            "width": null
          }
        },
        "3f5e81449b3b4754900947ba87942d9f": {
          "model_module": "@jupyter-widgets/controls",
          "model_name": "ProgressStyleModel",
          "model_module_version": "1.5.0",
          "state": {
            "_model_module": "@jupyter-widgets/controls",
            "_model_module_version": "1.5.0",
            "_model_name": "ProgressStyleModel",
            "_view_count": null,
            "_view_module": "@jupyter-widgets/base",
            "_view_module_version": "1.2.0",
            "_view_name": "StyleView",
            "bar_color": null,
            "description_width": ""
          }
        },
        "1f3fedaec93b4e1dbf841d1806947492": {
          "model_module": "@jupyter-widgets/base",
          "model_name": "LayoutModel",
          "model_module_version": "1.2.0",
          "state": {
            "_model_module": "@jupyter-widgets/base",
            "_model_module_version": "1.2.0",
            "_model_name": "LayoutModel",
            "_view_count": null,
            "_view_module": "@jupyter-widgets/base",
            "_view_module_version": "1.2.0",
            "_view_name": "LayoutView",
            "align_content": null,
            "align_items": null,
            "align_self": null,
            "border": null,
            "bottom": null,
            "display": null,
            "flex": null,
            "flex_flow": null,
            "grid_area": null,
            "grid_auto_columns": null,
            "grid_auto_flow": null,
            "grid_auto_rows": null,
            "grid_column": null,
            "grid_gap": null,
            "grid_row": null,
            "grid_template_areas": null,
            "grid_template_columns": null,
            "grid_template_rows": null,
            "height": null,
            "justify_content": null,
            "justify_items": null,
            "left": null,
            "margin": null,
            "max_height": null,
            "max_width": null,
            "min_height": null,
            "min_width": null,
            "object_fit": null,
            "object_position": null,
            "order": null,
            "overflow": null,
            "overflow_x": null,
            "overflow_y": null,
            "padding": null,
            "right": null,
            "top": null,
            "visibility": null,
            "width": null
          }
        },
        "e1f8dc7ca68d4f3f96dfa286f77cf2ca": {
          "model_module": "@jupyter-widgets/controls",
          "model_name": "DescriptionStyleModel",
          "model_module_version": "1.5.0",
          "state": {
            "_model_module": "@jupyter-widgets/controls",
            "_model_module_version": "1.5.0",
            "_model_name": "DescriptionStyleModel",
            "_view_count": null,
            "_view_module": "@jupyter-widgets/base",
            "_view_module_version": "1.2.0",
            "_view_name": "StyleView",
            "description_width": ""
          }
        },
        "8f573d4473614375b6365462d0a96902": {
          "model_module": "@jupyter-widgets/controls",
          "model_name": "HBoxModel",
          "model_module_version": "1.5.0",
          "state": {
            "_dom_classes": [],
            "_model_module": "@jupyter-widgets/controls",
            "_model_module_version": "1.5.0",
            "_model_name": "HBoxModel",
            "_view_count": null,
            "_view_module": "@jupyter-widgets/controls",
            "_view_module_version": "1.5.0",
            "_view_name": "HBoxView",
            "box_style": "",
            "children": [
              "IPY_MODEL_08a53bd1658a4c1991805423aebae1a2",
              "IPY_MODEL_0098aa0e5b784232b01bfd1110c8a3d9",
              "IPY_MODEL_7b46ee1cc7764c06b91b27834ec58793"
            ],
            "layout": "IPY_MODEL_035276bec750407bba03df2f38c92eae"
          }
        },
        "08a53bd1658a4c1991805423aebae1a2": {
          "model_module": "@jupyter-widgets/controls",
          "model_name": "HTMLModel",
          "model_module_version": "1.5.0",
          "state": {
            "_dom_classes": [],
            "_model_module": "@jupyter-widgets/controls",
            "_model_module_version": "1.5.0",
            "_model_name": "HTMLModel",
            "_view_count": null,
            "_view_module": "@jupyter-widgets/controls",
            "_view_module_version": "1.5.0",
            "_view_name": "HTMLView",
            "description": "",
            "description_tooltip": null,
            "layout": "IPY_MODEL_52da8d721a41453fb87de85931f6882c",
            "placeholder": "​",
            "style": "IPY_MODEL_82c977b356924df1a5de8e39e36ae15a",
            "value": "pytorch_model.bin: 100%"
          }
        },
        "0098aa0e5b784232b01bfd1110c8a3d9": {
          "model_module": "@jupyter-widgets/controls",
          "model_name": "FloatProgressModel",
          "model_module_version": "1.5.0",
          "state": {
            "_dom_classes": [],
            "_model_module": "@jupyter-widgets/controls",
            "_model_module_version": "1.5.0",
            "_model_name": "FloatProgressModel",
            "_view_count": null,
            "_view_module": "@jupyter-widgets/controls",
            "_view_module_version": "1.5.0",
            "_view_name": "ProgressView",
            "bar_style": "success",
            "description": "",
            "description_tooltip": null,
            "layout": "IPY_MODEL_bc939a118acd4b3fb23f929ea8382101",
            "max": 1650344886,
            "min": 0,
            "orientation": "horizontal",
            "style": "IPY_MODEL_390c0db3bcb0477e8716c3bdd463fe48",
            "value": 1650344886
          }
        },
        "7b46ee1cc7764c06b91b27834ec58793": {
          "model_module": "@jupyter-widgets/controls",
          "model_name": "HTMLModel",
          "model_module_version": "1.5.0",
          "state": {
            "_dom_classes": [],
            "_model_module": "@jupyter-widgets/controls",
            "_model_module_version": "1.5.0",
            "_model_name": "HTMLModel",
            "_view_count": null,
            "_view_module": "@jupyter-widgets/controls",
            "_view_module_version": "1.5.0",
            "_view_name": "HTMLView",
            "description": "",
            "description_tooltip": null,
            "layout": "IPY_MODEL_77e8065f4f244d71926edfec3befb802",
            "placeholder": "​",
            "style": "IPY_MODEL_10b919c423d44f8f998256a60b9b6bd8",
            "value": " 1.65G/1.65G [00:32&lt;00:00, 48.9MB/s]"
          }
        },
        "035276bec750407bba03df2f38c92eae": {
          "model_module": "@jupyter-widgets/base",
          "model_name": "LayoutModel",
          "model_module_version": "1.2.0",
          "state": {
            "_model_module": "@jupyter-widgets/base",
            "_model_module_version": "1.2.0",
            "_model_name": "LayoutModel",
            "_view_count": null,
            "_view_module": "@jupyter-widgets/base",
            "_view_module_version": "1.2.0",
            "_view_name": "LayoutView",
            "align_content": null,
            "align_items": null,
            "align_self": null,
            "border": null,
            "bottom": null,
            "display": null,
            "flex": null,
            "flex_flow": null,
            "grid_area": null,
            "grid_auto_columns": null,
            "grid_auto_flow": null,
            "grid_auto_rows": null,
            "grid_column": null,
            "grid_gap": null,
            "grid_row": null,
            "grid_template_areas": null,
            "grid_template_columns": null,
            "grid_template_rows": null,
            "height": null,
            "justify_content": null,
            "justify_items": null,
            "left": null,
            "margin": null,
            "max_height": null,
            "max_width": null,
            "min_height": null,
            "min_width": null,
            "object_fit": null,
            "object_position": null,
            "order": null,
            "overflow": null,
            "overflow_x": null,
            "overflow_y": null,
            "padding": null,
            "right": null,
            "top": null,
            "visibility": null,
            "width": null
          }
        },
        "52da8d721a41453fb87de85931f6882c": {
          "model_module": "@jupyter-widgets/base",
          "model_name": "LayoutModel",
          "model_module_version": "1.2.0",
          "state": {
            "_model_module": "@jupyter-widgets/base",
            "_model_module_version": "1.2.0",
            "_model_name": "LayoutModel",
            "_view_count": null,
            "_view_module": "@jupyter-widgets/base",
            "_view_module_version": "1.2.0",
            "_view_name": "LayoutView",
            "align_content": null,
            "align_items": null,
            "align_self": null,
            "border": null,
            "bottom": null,
            "display": null,
            "flex": null,
            "flex_flow": null,
            "grid_area": null,
            "grid_auto_columns": null,
            "grid_auto_flow": null,
            "grid_auto_rows": null,
            "grid_column": null,
            "grid_gap": null,
            "grid_row": null,
            "grid_template_areas": null,
            "grid_template_columns": null,
            "grid_template_rows": null,
            "height": null,
            "justify_content": null,
            "justify_items": null,
            "left": null,
            "margin": null,
            "max_height": null,
            "max_width": null,
            "min_height": null,
            "min_width": null,
            "object_fit": null,
            "object_position": null,
            "order": null,
            "overflow": null,
            "overflow_x": null,
            "overflow_y": null,
            "padding": null,
            "right": null,
            "top": null,
            "visibility": null,
            "width": null
          }
        },
        "82c977b356924df1a5de8e39e36ae15a": {
          "model_module": "@jupyter-widgets/controls",
          "model_name": "DescriptionStyleModel",
          "model_module_version": "1.5.0",
          "state": {
            "_model_module": "@jupyter-widgets/controls",
            "_model_module_version": "1.5.0",
            "_model_name": "DescriptionStyleModel",
            "_view_count": null,
            "_view_module": "@jupyter-widgets/base",
            "_view_module_version": "1.2.0",
            "_view_name": "StyleView",
            "description_width": ""
          }
        },
        "bc939a118acd4b3fb23f929ea8382101": {
          "model_module": "@jupyter-widgets/base",
          "model_name": "LayoutModel",
          "model_module_version": "1.2.0",
          "state": {
            "_model_module": "@jupyter-widgets/base",
            "_model_module_version": "1.2.0",
            "_model_name": "LayoutModel",
            "_view_count": null,
            "_view_module": "@jupyter-widgets/base",
            "_view_module_version": "1.2.0",
            "_view_name": "LayoutView",
            "align_content": null,
            "align_items": null,
            "align_self": null,
            "border": null,
            "bottom": null,
            "display": null,
            "flex": null,
            "flex_flow": null,
            "grid_area": null,
            "grid_auto_columns": null,
            "grid_auto_flow": null,
            "grid_auto_rows": null,
            "grid_column": null,
            "grid_gap": null,
            "grid_row": null,
            "grid_template_areas": null,
            "grid_template_columns": null,
            "grid_template_rows": null,
            "height": null,
            "justify_content": null,
            "justify_items": null,
            "left": null,
            "margin": null,
            "max_height": null,
            "max_width": null,
            "min_height": null,
            "min_width": null,
            "object_fit": null,
            "object_position": null,
            "order": null,
            "overflow": null,
            "overflow_x": null,
            "overflow_y": null,
            "padding": null,
            "right": null,
            "top": null,
            "visibility": null,
            "width": null
          }
        },
        "390c0db3bcb0477e8716c3bdd463fe48": {
          "model_module": "@jupyter-widgets/controls",
          "model_name": "ProgressStyleModel",
          "model_module_version": "1.5.0",
          "state": {
            "_model_module": "@jupyter-widgets/controls",
            "_model_module_version": "1.5.0",
            "_model_name": "ProgressStyleModel",
            "_view_count": null,
            "_view_module": "@jupyter-widgets/base",
            "_view_module_version": "1.2.0",
            "_view_name": "StyleView",
            "bar_color": null,
            "description_width": ""
          }
        },
        "77e8065f4f244d71926edfec3befb802": {
          "model_module": "@jupyter-widgets/base",
          "model_name": "LayoutModel",
          "model_module_version": "1.2.0",
          "state": {
            "_model_module": "@jupyter-widgets/base",
            "_model_module_version": "1.2.0",
            "_model_name": "LayoutModel",
            "_view_count": null,
            "_view_module": "@jupyter-widgets/base",
            "_view_module_version": "1.2.0",
            "_view_name": "LayoutView",
            "align_content": null,
            "align_items": null,
            "align_self": null,
            "border": null,
            "bottom": null,
            "display": null,
            "flex": null,
            "flex_flow": null,
            "grid_area": null,
            "grid_auto_columns": null,
            "grid_auto_flow": null,
            "grid_auto_rows": null,
            "grid_column": null,
            "grid_gap": null,
            "grid_row": null,
            "grid_template_areas": null,
            "grid_template_columns": null,
            "grid_template_rows": null,
            "height": null,
            "justify_content": null,
            "justify_items": null,
            "left": null,
            "margin": null,
            "max_height": null,
            "max_width": null,
            "min_height": null,
            "min_width": null,
            "object_fit": null,
            "object_position": null,
            "order": null,
            "overflow": null,
            "overflow_x": null,
            "overflow_y": null,
            "padding": null,
            "right": null,
            "top": null,
            "visibility": null,
            "width": null
          }
        },
        "10b919c423d44f8f998256a60b9b6bd8": {
          "model_module": "@jupyter-widgets/controls",
          "model_name": "DescriptionStyleModel",
          "model_module_version": "1.5.0",
          "state": {
            "_model_module": "@jupyter-widgets/controls",
            "_model_module_version": "1.5.0",
            "_model_name": "DescriptionStyleModel",
            "_view_count": null,
            "_view_module": "@jupyter-widgets/base",
            "_view_module_version": "1.2.0",
            "_view_name": "StyleView",
            "description_width": ""
          }
        }
      }
    },
    "accelerator": "GPU"
  },
  "cells": [
    {
      "cell_type": "code",
      "source": [
        "!pip install flair==0.12.2"
      ],
      "metadata": {
        "colab": {
          "base_uri": "https://localhost:8080/"
        },
        "id": "VpNICjrOfmfw",
        "outputId": "4c2fd101-b154-49cb-de4f-ce0b73dd9c66"
      },
      "execution_count": 1,
      "outputs": [
        {
          "output_type": "stream",
          "name": "stdout",
          "text": [
            "Collecting flair==0.12.2\n",
            "  Downloading flair-0.12.2-py3-none-any.whl (373 kB)\n",
            "\u001b[?25l     \u001b[90m━━━━━━━━━━━━━━━━━━━━━━━━━━━━━━━━━━━━━━━━\u001b[0m \u001b[32m0.0/373.1 kB\u001b[0m \u001b[31m?\u001b[0m eta \u001b[36m-:--:--\u001b[0m\r\u001b[2K     \u001b[91m━━━━━━━━━━━━━━━━━━━━━━━━━━━━━━\u001b[0m\u001b[91m╸\u001b[0m\u001b[90m━━━━━━━━━\u001b[0m \u001b[32m286.7/373.1 kB\u001b[0m \u001b[31m8.7 MB/s\u001b[0m eta \u001b[36m0:00:01\u001b[0m\r\u001b[2K     \u001b[90m━━━━━━━━━━━━━━━━━━━━━━━━━━━━━━━━━━━━━━━━\u001b[0m \u001b[32m373.1/373.1 kB\u001b[0m \u001b[31m7.8 MB/s\u001b[0m eta \u001b[36m0:00:00\u001b[0m\n",
            "\u001b[?25hRequirement already satisfied: python-dateutil>=2.6.1 in /usr/local/lib/python3.10/dist-packages (from flair==0.12.2) (2.8.2)\n",
            "Requirement already satisfied: torch!=1.8,>=1.5.0 in /usr/local/lib/python3.10/dist-packages (from flair==0.12.2) (2.1.0+cu121)\n",
            "Requirement already satisfied: gensim>=3.8.0 in /usr/local/lib/python3.10/dist-packages (from flair==0.12.2) (4.3.2)\n",
            "Requirement already satisfied: tqdm>=4.26.0 in /usr/local/lib/python3.10/dist-packages (from flair==0.12.2) (4.66.1)\n",
            "Collecting segtok>=1.5.7 (from flair==0.12.2)\n",
            "  Downloading segtok-1.5.11-py3-none-any.whl (24 kB)\n",
            "Requirement already satisfied: matplotlib>=2.2.3 in /usr/local/lib/python3.10/dist-packages (from flair==0.12.2) (3.7.1)\n",
            "Collecting mpld3==0.3 (from flair==0.12.2)\n",
            "  Downloading mpld3-0.3.tar.gz (788 kB)\n",
            "\u001b[2K     \u001b[90m━━━━━━━━━━━━━━━━━━━━━━━━━━━━━━━━━━━━━━━━\u001b[0m \u001b[32m788.5/788.5 kB\u001b[0m \u001b[31m16.5 MB/s\u001b[0m eta \u001b[36m0:00:00\u001b[0m\n",
            "\u001b[?25h  Preparing metadata (setup.py) ... \u001b[?25l\u001b[?25hdone\n",
            "Requirement already satisfied: scikit-learn>=0.21.3 in /usr/local/lib/python3.10/dist-packages (from flair==0.12.2) (1.2.2)\n",
            "Collecting sqlitedict>=1.6.0 (from flair==0.12.2)\n",
            "  Downloading sqlitedict-2.1.0.tar.gz (21 kB)\n",
            "  Preparing metadata (setup.py) ... \u001b[?25l\u001b[?25hdone\n",
            "Collecting deprecated>=1.2.4 (from flair==0.12.2)\n",
            "  Downloading Deprecated-1.2.14-py2.py3-none-any.whl (9.6 kB)\n",
            "Requirement already satisfied: hyperopt>=0.2.7 in /usr/local/lib/python3.10/dist-packages (from flair==0.12.2) (0.2.7)\n",
            "Collecting boto3 (from flair==0.12.2)\n",
            "  Downloading boto3-1.34.38-py3-none-any.whl (139 kB)\n",
            "\u001b[2K     \u001b[90m━━━━━━━━━━━━━━━━━━━━━━━━━━━━━━━━━━━━━━━━\u001b[0m \u001b[32m139.3/139.3 kB\u001b[0m \u001b[31m12.4 MB/s\u001b[0m eta \u001b[36m0:00:00\u001b[0m\n",
            "\u001b[?25hRequirement already satisfied: transformers[sentencepiece]>=4.18.0 in /usr/local/lib/python3.10/dist-packages (from flair==0.12.2) (4.35.2)\n",
            "Collecting bpemb>=0.3.2 (from flair==0.12.2)\n",
            "  Downloading bpemb-0.3.4-py3-none-any.whl (19 kB)\n",
            "Requirement already satisfied: regex in /usr/local/lib/python3.10/dist-packages (from flair==0.12.2) (2023.12.25)\n",
            "Requirement already satisfied: tabulate in /usr/local/lib/python3.10/dist-packages (from flair==0.12.2) (0.9.0)\n",
            "Collecting langdetect (from flair==0.12.2)\n",
            "  Downloading langdetect-1.0.9.tar.gz (981 kB)\n",
            "\u001b[2K     \u001b[90m━━━━━━━━━━━━━━━━━━━━━━━━━━━━━━━━━━━━━━━━\u001b[0m \u001b[32m981.5/981.5 kB\u001b[0m \u001b[31m23.9 MB/s\u001b[0m eta \u001b[36m0:00:00\u001b[0m\n",
            "\u001b[?25h  Preparing metadata (setup.py) ... \u001b[?25l\u001b[?25hdone\n",
            "Requirement already satisfied: lxml in /usr/local/lib/python3.10/dist-packages (from flair==0.12.2) (4.9.4)\n",
            "Collecting ftfy (from flair==0.12.2)\n",
            "  Downloading ftfy-6.1.3-py3-none-any.whl (53 kB)\n",
            "\u001b[2K     \u001b[90m━━━━━━━━━━━━━━━━━━━━━━━━━━━━━━━━━━━━━━━━\u001b[0m \u001b[32m53.4/53.4 kB\u001b[0m \u001b[31m7.7 MB/s\u001b[0m eta \u001b[36m0:00:00\u001b[0m\n",
            "\u001b[?25hCollecting janome (from flair==0.12.2)\n",
            "  Downloading Janome-0.5.0-py2.py3-none-any.whl (19.7 MB)\n",
            "\u001b[2K     \u001b[90m━━━━━━━━━━━━━━━━━━━━━━━━━━━━━━━━━━━━━━━━\u001b[0m \u001b[32m19.7/19.7 MB\u001b[0m \u001b[31m63.1 MB/s\u001b[0m eta \u001b[36m0:00:00\u001b[0m\n",
            "\u001b[?25hCollecting gdown==4.4.0 (from flair==0.12.2)\n",
            "  Downloading gdown-4.4.0.tar.gz (14 kB)\n",
            "  Installing build dependencies ... \u001b[?25l\u001b[?25hdone\n",
            "  Getting requirements to build wheel ... \u001b[?25l\u001b[?25hdone\n",
            "  Preparing metadata (pyproject.toml) ... \u001b[?25l\u001b[?25hdone\n",
            "Requirement already satisfied: huggingface-hub>=0.10.0 in /usr/local/lib/python3.10/dist-packages (from flair==0.12.2) (0.20.3)\n",
            "Collecting conllu>=4.0 (from flair==0.12.2)\n",
            "  Downloading conllu-4.5.3-py2.py3-none-any.whl (16 kB)\n",
            "Requirement already satisfied: more-itertools in /usr/local/lib/python3.10/dist-packages (from flair==0.12.2) (10.1.0)\n",
            "Collecting wikipedia-api (from flair==0.12.2)\n",
            "  Downloading Wikipedia_API-0.6.0-py3-none-any.whl (14 kB)\n",
            "Collecting pptree (from flair==0.12.2)\n",
            "  Downloading pptree-3.1.tar.gz (3.0 kB)\n",
            "  Preparing metadata (setup.py) ... \u001b[?25l\u001b[?25hdone\n",
            "Collecting pytorch-revgrad (from flair==0.12.2)\n",
            "  Downloading pytorch_revgrad-0.2.0-py3-none-any.whl (4.6 kB)\n",
            "Collecting transformer-smaller-training-vocab>=0.2.1 (from flair==0.12.2)\n",
            "  Downloading transformer_smaller_training_vocab-0.3.3-py3-none-any.whl (14 kB)\n",
            "Requirement already satisfied: filelock in /usr/local/lib/python3.10/dist-packages (from gdown==4.4.0->flair==0.12.2) (3.13.1)\n",
            "Requirement already satisfied: requests[socks] in /usr/local/lib/python3.10/dist-packages (from gdown==4.4.0->flair==0.12.2) (2.31.0)\n",
            "Requirement already satisfied: six in /usr/local/lib/python3.10/dist-packages (from gdown==4.4.0->flair==0.12.2) (1.16.0)\n",
            "Requirement already satisfied: beautifulsoup4 in /usr/local/lib/python3.10/dist-packages (from gdown==4.4.0->flair==0.12.2) (4.12.3)\n",
            "Requirement already satisfied: numpy in /usr/local/lib/python3.10/dist-packages (from bpemb>=0.3.2->flair==0.12.2) (1.23.5)\n",
            "Requirement already satisfied: sentencepiece in /usr/local/lib/python3.10/dist-packages (from bpemb>=0.3.2->flair==0.12.2) (0.1.99)\n",
            "Requirement already satisfied: wrapt<2,>=1.10 in /usr/local/lib/python3.10/dist-packages (from deprecated>=1.2.4->flair==0.12.2) (1.14.1)\n",
            "Requirement already satisfied: scipy>=1.7.0 in /usr/local/lib/python3.10/dist-packages (from gensim>=3.8.0->flair==0.12.2) (1.11.4)\n",
            "Requirement already satisfied: smart-open>=1.8.1 in /usr/local/lib/python3.10/dist-packages (from gensim>=3.8.0->flair==0.12.2) (6.4.0)\n",
            "Requirement already satisfied: fsspec>=2023.5.0 in /usr/local/lib/python3.10/dist-packages (from huggingface-hub>=0.10.0->flair==0.12.2) (2023.6.0)\n",
            "Requirement already satisfied: pyyaml>=5.1 in /usr/local/lib/python3.10/dist-packages (from huggingface-hub>=0.10.0->flair==0.12.2) (6.0.1)\n",
            "Requirement already satisfied: typing-extensions>=3.7.4.3 in /usr/local/lib/python3.10/dist-packages (from huggingface-hub>=0.10.0->flair==0.12.2) (4.9.0)\n",
            "Requirement already satisfied: packaging>=20.9 in /usr/local/lib/python3.10/dist-packages (from huggingface-hub>=0.10.0->flair==0.12.2) (23.2)\n",
            "Requirement already satisfied: networkx>=2.2 in /usr/local/lib/python3.10/dist-packages (from hyperopt>=0.2.7->flair==0.12.2) (3.2.1)\n",
            "Requirement already satisfied: future in /usr/local/lib/python3.10/dist-packages (from hyperopt>=0.2.7->flair==0.12.2) (0.18.3)\n",
            "Requirement already satisfied: cloudpickle in /usr/local/lib/python3.10/dist-packages (from hyperopt>=0.2.7->flair==0.12.2) (2.2.1)\n",
            "Requirement already satisfied: py4j in /usr/local/lib/python3.10/dist-packages (from hyperopt>=0.2.7->flair==0.12.2) (0.10.9.7)\n",
            "Requirement already satisfied: contourpy>=1.0.1 in /usr/local/lib/python3.10/dist-packages (from matplotlib>=2.2.3->flair==0.12.2) (1.2.0)\n",
            "Requirement already satisfied: cycler>=0.10 in /usr/local/lib/python3.10/dist-packages (from matplotlib>=2.2.3->flair==0.12.2) (0.12.1)\n",
            "Requirement already satisfied: fonttools>=4.22.0 in /usr/local/lib/python3.10/dist-packages (from matplotlib>=2.2.3->flair==0.12.2) (4.48.1)\n",
            "Requirement already satisfied: kiwisolver>=1.0.1 in /usr/local/lib/python3.10/dist-packages (from matplotlib>=2.2.3->flair==0.12.2) (1.4.5)\n",
            "Requirement already satisfied: pillow>=6.2.0 in /usr/local/lib/python3.10/dist-packages (from matplotlib>=2.2.3->flair==0.12.2) (9.4.0)\n",
            "Requirement already satisfied: pyparsing>=2.3.1 in /usr/local/lib/python3.10/dist-packages (from matplotlib>=2.2.3->flair==0.12.2) (3.1.1)\n",
            "Requirement already satisfied: joblib>=1.1.1 in /usr/local/lib/python3.10/dist-packages (from scikit-learn>=0.21.3->flair==0.12.2) (1.3.2)\n",
            "Requirement already satisfied: threadpoolctl>=2.0.0 in /usr/local/lib/python3.10/dist-packages (from scikit-learn>=0.21.3->flair==0.12.2) (3.2.0)\n",
            "Requirement already satisfied: sympy in /usr/local/lib/python3.10/dist-packages (from torch!=1.8,>=1.5.0->flair==0.12.2) (1.12)\n",
            "Requirement already satisfied: jinja2 in /usr/local/lib/python3.10/dist-packages (from torch!=1.8,>=1.5.0->flair==0.12.2) (3.1.3)\n",
            "Requirement already satisfied: triton==2.1.0 in /usr/local/lib/python3.10/dist-packages (from torch!=1.8,>=1.5.0->flair==0.12.2) (2.1.0)\n",
            "Requirement already satisfied: tokenizers<0.19,>=0.14 in /usr/local/lib/python3.10/dist-packages (from transformers[sentencepiece]>=4.18.0->flair==0.12.2) (0.15.1)\n",
            "Requirement already satisfied: safetensors>=0.3.1 in /usr/local/lib/python3.10/dist-packages (from transformers[sentencepiece]>=4.18.0->flair==0.12.2) (0.4.2)\n",
            "Requirement already satisfied: protobuf in /usr/local/lib/python3.10/dist-packages (from transformers[sentencepiece]>=4.18.0->flair==0.12.2) (3.20.3)\n",
            "Collecting botocore<1.35.0,>=1.34.38 (from boto3->flair==0.12.2)\n",
            "  Downloading botocore-1.34.38-py3-none-any.whl (11.9 MB)\n",
            "\u001b[2K     \u001b[90m━━━━━━━━━━━━━━━━━━━━━━━━━━━━━━━━━━━━━━━━\u001b[0m \u001b[32m11.9/11.9 MB\u001b[0m \u001b[31m103.8 MB/s\u001b[0m eta \u001b[36m0:00:00\u001b[0m\n",
            "\u001b[?25hCollecting jmespath<2.0.0,>=0.7.1 (from boto3->flair==0.12.2)\n",
            "  Downloading jmespath-1.0.1-py3-none-any.whl (20 kB)\n",
            "Collecting s3transfer<0.11.0,>=0.10.0 (from boto3->flair==0.12.2)\n",
            "  Downloading s3transfer-0.10.0-py3-none-any.whl (82 kB)\n",
            "\u001b[2K     \u001b[90m━━━━━━━━━━━━━━━━━━━━━━━━━━━━━━━━━━━━━━━━\u001b[0m \u001b[32m82.1/82.1 kB\u001b[0m \u001b[31m12.7 MB/s\u001b[0m eta \u001b[36m0:00:00\u001b[0m\n",
            "\u001b[?25hRequirement already satisfied: wcwidth<0.3.0,>=0.2.12 in /usr/local/lib/python3.10/dist-packages (from ftfy->flair==0.12.2) (0.2.13)\n",
            "Requirement already satisfied: urllib3<2.1,>=1.25.4 in /usr/local/lib/python3.10/dist-packages (from botocore<1.35.0,>=1.34.38->boto3->flair==0.12.2) (2.0.7)\n",
            "Collecting accelerate>=0.20.3 (from transformers[sentencepiece]>=4.18.0->flair==0.12.2)\n",
            "  Downloading accelerate-0.26.1-py3-none-any.whl (270 kB)\n",
            "\u001b[2K     \u001b[90m━━━━━━━━━━━━━━━━━━━━━━━━━━━━━━━━━━━━━━━━\u001b[0m \u001b[32m270.9/270.9 kB\u001b[0m \u001b[31m33.2 MB/s\u001b[0m eta \u001b[36m0:00:00\u001b[0m\n",
            "\u001b[?25hRequirement already satisfied: soupsieve>1.2 in /usr/local/lib/python3.10/dist-packages (from beautifulsoup4->gdown==4.4.0->flair==0.12.2) (2.5)\n",
            "Requirement already satisfied: MarkupSafe>=2.0 in /usr/local/lib/python3.10/dist-packages (from jinja2->torch!=1.8,>=1.5.0->flair==0.12.2) (2.1.5)\n",
            "Requirement already satisfied: charset-normalizer<4,>=2 in /usr/local/lib/python3.10/dist-packages (from requests[socks]->gdown==4.4.0->flair==0.12.2) (3.3.2)\n",
            "Requirement already satisfied: idna<4,>=2.5 in /usr/local/lib/python3.10/dist-packages (from requests[socks]->gdown==4.4.0->flair==0.12.2) (3.6)\n",
            "Requirement already satisfied: certifi>=2017.4.17 in /usr/local/lib/python3.10/dist-packages (from requests[socks]->gdown==4.4.0->flair==0.12.2) (2024.2.2)\n",
            "Requirement already satisfied: PySocks!=1.5.7,>=1.5.6 in /usr/local/lib/python3.10/dist-packages (from requests[socks]->gdown==4.4.0->flair==0.12.2) (1.7.1)\n",
            "Requirement already satisfied: mpmath>=0.19 in /usr/local/lib/python3.10/dist-packages (from sympy->torch!=1.8,>=1.5.0->flair==0.12.2) (1.3.0)\n",
            "Requirement already satisfied: psutil in /usr/local/lib/python3.10/dist-packages (from accelerate>=0.20.3->transformers[sentencepiece]>=4.18.0->flair==0.12.2) (5.9.5)\n",
            "Building wheels for collected packages: gdown, mpld3, sqlitedict, langdetect, pptree\n",
            "  Building wheel for gdown (pyproject.toml) ... \u001b[?25l\u001b[?25hdone\n",
            "  Created wheel for gdown: filename=gdown-4.4.0-py3-none-any.whl size=14758 sha256=f8f5bd3068535b45726832b4b8e90ec9c6e4c110d612952c33062d73f29ce233\n",
            "  Stored in directory: /root/.cache/pip/wheels/03/0b/3f/6ddf67a417a5b400b213b0bb772a50276c199a386b12c06bfc\n",
            "  Building wheel for mpld3 (setup.py) ... \u001b[?25l\u001b[?25hdone\n",
            "  Created wheel for mpld3: filename=mpld3-0.3-py3-none-any.whl size=116686 sha256=95e7798239158560912e4a8380100bba461e525a02e3b245bf7b2fb6c42732d5\n",
            "  Stored in directory: /root/.cache/pip/wheels/9c/92/f7/45d9aac5dcfb1c2a1761a272365599cc7ba1050ce211a3fd9a\n",
            "  Building wheel for sqlitedict (setup.py) ... \u001b[?25l\u001b[?25hdone\n",
            "  Created wheel for sqlitedict: filename=sqlitedict-2.1.0-py3-none-any.whl size=16863 sha256=4486ed9617477dfa37b2c7b1091cbba1f0c6e851951c6d3bb0ad1889b4595389\n",
            "  Stored in directory: /root/.cache/pip/wheels/79/d6/e7/304e0e6cb2221022c26d8161f7c23cd4f259a9e41e8bbcfabd\n",
            "  Building wheel for langdetect (setup.py) ... \u001b[?25l\u001b[?25hdone\n",
            "  Created wheel for langdetect: filename=langdetect-1.0.9-py3-none-any.whl size=993225 sha256=23b468cb927fa4078398b28c0230fb01f8de440be4b16ac70b2815c7c85e398a\n",
            "  Stored in directory: /root/.cache/pip/wheels/95/03/7d/59ea870c70ce4e5a370638b5462a7711ab78fba2f655d05106\n",
            "  Building wheel for pptree (setup.py) ... \u001b[?25l\u001b[?25hdone\n",
            "  Created wheel for pptree: filename=pptree-3.1-py3-none-any.whl size=4608 sha256=37db39342529bc71ecf3dd838a425db76f87acef7529a0933460df322e7dac8c\n",
            "  Stored in directory: /root/.cache/pip/wheels/9f/b6/0e/6f26eb9e6eb53ff2107a7888d72b5a6a597593956113037828\n",
            "Successfully built gdown mpld3 sqlitedict langdetect pptree\n",
            "Installing collected packages: sqlitedict, pptree, mpld3, janome, segtok, langdetect, jmespath, ftfy, deprecated, conllu, wikipedia-api, botocore, s3transfer, pytorch-revgrad, gdown, bpemb, accelerate, boto3, transformer-smaller-training-vocab, flair\n",
            "  Attempting uninstall: gdown\n",
            "    Found existing installation: gdown 4.7.3\n",
            "    Uninstalling gdown-4.7.3:\n",
            "      Successfully uninstalled gdown-4.7.3\n",
            "Successfully installed accelerate-0.26.1 boto3-1.34.38 botocore-1.34.38 bpemb-0.3.4 conllu-4.5.3 deprecated-1.2.14 flair-0.12.2 ftfy-6.1.3 gdown-4.4.0 janome-0.5.0 jmespath-1.0.1 langdetect-1.0.9 mpld3-0.3 pptree-3.1 pytorch-revgrad-0.2.0 s3transfer-0.10.0 segtok-1.5.11 sqlitedict-2.1.0 transformer-smaller-training-vocab-0.3.3 wikipedia-api-0.6.0\n"
          ]
        }
      ]
    },
    {
      "cell_type": "markdown",
      "source": [
        "**Testing mariasierro/flair-ner-echr-es-projected** (sequence tagger trained on the Spanish corpus with projected annotations of 127 texts)"
      ],
      "metadata": {
        "id": "totssuK0l7uW"
      }
    },
    {
      "cell_type": "code",
      "execution_count": null,
      "metadata": {
        "colab": {
          "base_uri": "https://localhost:8080/",
          "height": 208,
          "referenced_widgets": [
            "5617ef4027c44b8ab79522744bbcc4f5",
            "272ed99ce60c4935a1704c46758a5461",
            "a7f193446575418a90710f1fd795c1c2",
            "bca0a352013c4619adb4891c653221bc",
            "48dca8d296e34f17bec1670796a81088",
            "0314fe188a434ca3b944042d34ab4f7b",
            "0a6eac8f589a41538977e61a37fe80e9",
            "58d4b21773994f65b2fc3bfb43e8aac2",
            "3da8d67d22d745f0bb61450b0820f26f",
            "ffa0cc6e3d5c4b65960cc0a02ef04e61",
            "519a08ac583546809f96a1d686ab9f14"
          ]
        },
        "id": "70Gko5AweCzh",
        "outputId": "063ed8c8-ec14-45d1-8d44-8796436aaae6"
      },
      "outputs": [
        {
          "output_type": "stream",
          "name": "stderr",
          "text": [
            "/usr/local/lib/python3.10/dist-packages/huggingface_hub/utils/_token.py:88: UserWarning: \n",
            "The secret `HF_TOKEN` does not exist in your Colab secrets.\n",
            "To authenticate with the Hugging Face Hub, create a token in your settings tab (https://huggingface.co/settings/tokens), set it as secret in your Google Colab and restart your session.\n",
            "You will be able to reuse this secret in all of your notebooks.\n",
            "Please note that authentication is recommended but still optional to access public models or datasets.\n",
            "  warnings.warn(\n"
          ]
        },
        {
          "output_type": "display_data",
          "data": {
            "text/plain": [
              "pytorch_model.bin:   0%|          | 0.00/1.65G [00:00<?, ?B/s]"
            ],
            "application/vnd.jupyter.widget-view+json": {
              "version_major": 2,
              "version_minor": 0,
              "model_id": "5617ef4027c44b8ab79522744bbcc4f5"
            }
          },
          "metadata": {}
        },
        {
          "output_type": "stream",
          "name": "stdout",
          "text": [
            "2024-02-04 17:58:12,159 SequenceTagger predicts: Dictionary with 35 tags: O, S-DATETIME, B-DATETIME, E-DATETIME, I-DATETIME, S-PER, B-PER, E-PER, I-PER, S-ORG, B-ORG, E-ORG, I-ORG, S-LOC, B-LOC, E-LOC, I-LOC, S-CODE, B-CODE, E-CODE, I-CODE, S-DEM, B-DEM, E-DEM, I-DEM, S-MISC, B-MISC, E-MISC, I-MISC, S-QUANTITY, B-QUANTITY, E-QUANTITY, I-QUANTITY, <START>, <STOP>\n",
            "Sentence[6]: \"George Washington fue a Washington.\" → [\"George Washington\"/PER, \"Washington\"/LOC]\n"
          ]
        }
      ],
      "source": [
        "from flair.models import SequenceTagger\n",
        "\n",
        "from flair.data import Sentence\n",
        "\n",
        "# load the model\n",
        "tagger = SequenceTagger.load(\"mariasierro/flair-ner-echr-es-projected\")\n",
        "\n",
        "# make a sentence\n",
        "sentence = Sentence('George Washington fue a Washington.')\n",
        "\n",
        "# predict NER tags\n",
        "tagger.predict(sentence)\n",
        "\n",
        "# print sentence with predicted tags\n",
        "print(sentence)"
      ]
    },
    {
      "cell_type": "code",
      "source": [
        "# make a sentence\n",
        "sentence = Sentence('El Sr. Pierson es inglés y viajó a Madrid el 13 de julio de 2004 a las 5 p.m.')\n",
        "\n",
        "# predict NER tags\n",
        "tagger.predict(sentence)\n",
        "\n",
        "# print sentence with predicted tags\n",
        "print(sentence)"
      ],
      "metadata": {
        "colab": {
          "base_uri": "https://localhost:8080/"
        },
        "id": "xDpXGKdQlK3k",
        "outputId": "747e1843-b5a0-4867-c80c-5daf4c01eebf"
      },
      "execution_count": null,
      "outputs": [
        {
          "output_type": "stream",
          "name": "stdout",
          "text": [
            "Sentence[20]: \"El Sr. Pierson es inglés y viajó a Madrid el 13 de julio de 2004 a las 5 p.m.\" → [\"Sr. Pierson\"/PER, \"Madrid\"/LOC, \"13 de julio de 2004\"/DATETIME]\n"
          ]
        }
      ]
    },
    {
      "cell_type": "code",
      "source": [
        "# make a sentence\n",
        "sentence = Sentence('El número identificativo es 1234/56P')\n",
        "\n",
        "# predict NER tags\n",
        "tagger.predict(sentence)\n",
        "\n",
        "# print sentence with predicted tags\n",
        "print(sentence)"
      ],
      "metadata": {
        "colab": {
          "base_uri": "https://localhost:8080/"
        },
        "id": "McH7abA0lmYg",
        "outputId": "068accc3-5136-4de9-b26b-936de3136367"
      },
      "execution_count": null,
      "outputs": [
        {
          "output_type": "stream",
          "name": "stdout",
          "text": [
            "Sentence[7]: \"El número identificativo es 1234/56P\" → [\"1234/56P\"/CODE]\n"
          ]
        }
      ]
    },
    {
      "cell_type": "code",
      "source": [
        "# make a sentence\n",
        "sentence = Sentence('El número identificativo es 123456P')\n",
        "\n",
        "# predict NER tags\n",
        "tagger.predict(sentence)\n",
        "\n",
        "# print sentence with predicted tags\n",
        "print(sentence)"
      ],
      "metadata": {
        "colab": {
          "base_uri": "https://localhost:8080/"
        },
        "id": "ZbwpJCM6l2Iu",
        "outputId": "c433fbb5-8864-4ef8-a9cd-cd6450889908"
      },
      "execution_count": null,
      "outputs": [
        {
          "output_type": "stream",
          "name": "stdout",
          "text": [
            "Sentence[5]: \"El número identificativo es 123456P\"\n"
          ]
        }
      ]
    },
    {
      "cell_type": "code",
      "source": [
        "# make a sentence\n",
        "sentence = Sentence('La Sra. García pagó 500 euros (EUR) a su médico por una cirugía estética facial')\n",
        "\n",
        "# predict NER tags\n",
        "tagger.predict(sentence)\n",
        "\n",
        "# print sentence with predicted tags\n",
        "print(sentence)"
      ],
      "metadata": {
        "colab": {
          "base_uri": "https://localhost:8080/"
        },
        "id": "xSjBQQ6ImKvr",
        "outputId": "8c1c446e-53e6-4563-c591-e3df36a2483d"
      },
      "execution_count": null,
      "outputs": [
        {
          "output_type": "stream",
          "name": "stdout",
          "text": [
            "Sentence[17]: \"La Sra. García pagó 500 euros (EUR) a su médico por una cirugía estética facial\"\n"
          ]
        }
      ]
    },
    {
      "cell_type": "code",
      "source": [
        "# make a sentence\n",
        "sentence = Sentence('El Sr. Laurence tiene 100 libras (GBP)')\n",
        "\n",
        "# predict NER tags\n",
        "tagger.predict(sentence)\n",
        "\n",
        "# print sentence with predicted tags\n",
        "print(sentence)"
      ],
      "metadata": {
        "colab": {
          "base_uri": "https://localhost:8080/"
        },
        "id": "v9VGbYGAmopc",
        "outputId": "82a2133b-b7e2-4fa2-b6dd-b9b0f731be41"
      },
      "execution_count": null,
      "outputs": [
        {
          "output_type": "stream",
          "name": "stdout",
          "text": [
            "Sentence[9]: \"El Sr. Laurence tiene 100 libras (GBP)\" → [\"Sr. Laurence\"/PER, \"100 libras (GBP\"/QUANTITY]\n"
          ]
        }
      ]
    },
    {
      "cell_type": "code",
      "source": [
        "# make a sentence\n",
        "sentence = Sentence('La Sra. York trabaja en la Organización Mundial de la Salud (OMS)')\n",
        "\n",
        "# predict NER tags\n",
        "tagger.predict(sentence)\n",
        "\n",
        "# print sentence with predicted tags\n",
        "print(sentence)"
      ],
      "metadata": {
        "colab": {
          "base_uri": "https://localhost:8080/"
        },
        "id": "0ylHWdBkm1aR",
        "outputId": "f649017c-f0dd-48fa-a6f7-cce5bbbd8395"
      },
      "execution_count": null,
      "outputs": [
        {
          "output_type": "stream",
          "name": "stdout",
          "text": [
            "Sentence[14]: \"La Sra. York trabaja en la Organización Mundial de la Salud (OMS)\"\n"
          ]
        }
      ]
    },
    {
      "cell_type": "code",
      "source": [
        "# make a sentence\n",
        "sentence = Sentence('La Sra. Geraldine trabaja en la agencia Caramba')\n",
        "\n",
        "# predict NER tags\n",
        "tagger.predict(sentence)\n",
        "\n",
        "# print sentence with predicted tags\n",
        "print(sentence)"
      ],
      "metadata": {
        "colab": {
          "base_uri": "https://localhost:8080/"
        },
        "id": "UpOFgLh6ndCh",
        "outputId": "517581fb-1f45-41f9-97fd-19df18cd4a94"
      },
      "execution_count": null,
      "outputs": [
        {
          "output_type": "stream",
          "name": "stdout",
          "text": [
            "Sentence[8]: \"La Sra. Geraldine trabaja en la agencia Caramba\"\n"
          ]
        }
      ]
    },
    {
      "cell_type": "code",
      "source": [
        "# make a sentence\n",
        "sentence = Sentence('La Sra. Flint es General y trabaja en la Prisión Militar de Hamburgo')\n",
        "\n",
        "# predict NER tags\n",
        "tagger.predict(sentence)\n",
        "\n",
        "# print sentence with predicted tags\n",
        "print(sentence)"
      ],
      "metadata": {
        "colab": {
          "base_uri": "https://localhost:8080/"
        },
        "id": "FTbQuM09nvUY",
        "outputId": "cf7ed7f3-7e98-4bb3-b901-d4363c707fad"
      },
      "execution_count": null,
      "outputs": [
        {
          "output_type": "stream",
          "name": "stdout",
          "text": [
            "Sentence[13]: \"La Sra. Flint es General y trabaja en la Prisión Militar de Hamburgo\" → [\"La Sra. Flint\"/PER, \"Prisión Militar de Hamburgo\"/ORG]\n"
          ]
        }
      ]
    },
    {
      "cell_type": "code",
      "source": [
        "# make a sentence\n",
        "sentence = Sentence('La Sra. Doe es jueza y trabaja en el Tribunal Marcial de Helsinki')\n",
        "\n",
        "# predict NER tags\n",
        "tagger.predict(sentence)\n",
        "\n",
        "# print sentence with predicted tags\n",
        "print(sentence)"
      ],
      "metadata": {
        "colab": {
          "base_uri": "https://localhost:8080/"
        },
        "id": "Fg3qNb72oFbX",
        "outputId": "24590546-2efe-4252-b198-cf8f8ce0e259"
      },
      "execution_count": null,
      "outputs": [
        {
          "output_type": "stream",
          "name": "stdout",
          "text": [
            "Sentence[13]: \"La Sra. Doe es jueza y trabaja en el Tribunal Marcial de Helsinki\"\n"
          ]
        }
      ]
    },
    {
      "cell_type": "code",
      "source": [
        "# make a sentence\n",
        "sentence = Sentence('La Sra. Posh tiene 40 años y trabaja en el Tribunal Superior de Noruega')\n",
        "\n",
        "# predict NER tags\n",
        "tagger.predict(sentence)\n",
        "\n",
        "# print sentence with predicted tags\n",
        "print(sentence)"
      ],
      "metadata": {
        "colab": {
          "base_uri": "https://localhost:8080/"
        },
        "id": "y2hpwAJhoQmV",
        "outputId": "4dd5934f-d708-40e3-93f0-ca0843cdb6f0"
      },
      "execution_count": null,
      "outputs": [
        {
          "output_type": "stream",
          "name": "stdout",
          "text": [
            "Sentence[14]: \"La Sra. Posh tiene 40 años y trabaja en el Tribunal Superior de Noruega\"\n"
          ]
        }
      ]
    },
    {
      "cell_type": "markdown",
      "source": [
        "**Testing mariasierro/flair-ner-echr-fr-projected** (sequence tagger trained on the French corpus with projected annotations of 127 texts)"
      ],
      "metadata": {
        "id": "PAEs0Terqm7G"
      }
    },
    {
      "cell_type": "code",
      "source": [
        "from flair.models import SequenceTagger\n",
        "\n",
        "from flair.data import Sentence\n",
        "\n",
        "# load the model\n",
        "tagger = SequenceTagger.load(\"mariasierro/flair-ner-echr-fr-projected\")\n",
        "\n",
        "# make a sentence\n",
        "sentence = Sentence('George Washington est allé à Washington.')\n",
        "\n",
        "# predict NER tags\n",
        "tagger.predict(sentence)\n",
        "\n",
        "# print sentence with predicted tags\n",
        "print(sentence)"
      ],
      "metadata": {
        "colab": {
          "base_uri": "https://localhost:8080/",
          "height": 104,
          "referenced_widgets": [
            "1d4f5bc023fe43bda01c0f12c23ae242",
            "0cd1647c521f486a87c2c73a44e0e73b",
            "07573c70553e47b3861d8ec9a13cbaf0",
            "02093fa70c484378858557355182b725",
            "dcee8d797780461aa0f323e47451ea4d",
            "b9a524023d3a4a1b9435a08e1e578072",
            "1d2858384d4745e5966721af2afaf98d",
            "b44e1eb99ef3408fa35c581ab4350066",
            "3f5e81449b3b4754900947ba87942d9f",
            "1f3fedaec93b4e1dbf841d1806947492",
            "e1f8dc7ca68d4f3f96dfa286f77cf2ca"
          ]
        },
        "id": "QmA7U2Eoqora",
        "outputId": "0d1be2a2-22e7-4a9a-8e7a-6dfa745db7fb"
      },
      "execution_count": null,
      "outputs": [
        {
          "output_type": "display_data",
          "data": {
            "text/plain": [
              "pytorch_model.bin:   0%|          | 0.00/1.30G [00:00<?, ?B/s]"
            ],
            "application/vnd.jupyter.widget-view+json": {
              "version_major": 2,
              "version_minor": 0,
              "model_id": "1d4f5bc023fe43bda01c0f12c23ae242"
            }
          },
          "metadata": {}
        },
        {
          "output_type": "stream",
          "name": "stdout",
          "text": [
            "2024-02-04 18:00:19,994 SequenceTagger predicts: Dictionary with 35 tags: O, S-DATETIME, B-DATETIME, E-DATETIME, I-DATETIME, S-PER, B-PER, E-PER, I-PER, S-ORG, B-ORG, E-ORG, I-ORG, S-LOC, B-LOC, E-LOC, I-LOC, S-CODE, B-CODE, E-CODE, I-CODE, S-MISC, B-MISC, E-MISC, I-MISC, S-DEM, B-DEM, E-DEM, I-DEM, S-QUANTITY, B-QUANTITY, E-QUANTITY, I-QUANTITY, <START>, <STOP>\n",
            "Sentence[7]: \"George Washington est allé à Washington.\" → [\"George Washington\"/PER, \"Washington\"/LOC]\n"
          ]
        }
      ]
    },
    {
      "cell_type": "code",
      "source": [
        "# make a sentence\n",
        "sentence1 = Sentence('M. Pierson est anglais et il est allé à Madrid le 13 juillet 2004 à 17 heures.')\n",
        "sentence2 = Sentence(\"Le numéro d'identification est le 1234/56P\")\n",
        "sentence3 = Sentence(\"Un livre avec le code 123456P\")\n",
        "sentence4 = Sentence('Mme. García a payé 500 euros (EUR) au médecin suite à une chirurgie esthétique du visage')\n",
        "sentence5 = Sentence('M. Laurence a 100 livres sterling (GBP)')\n",
        "sentence6 = Sentence(\"Mme. York travaille chez l'Organisation Mondiale de la Santé (OMS)\")\n",
        "sentence7 = Sentence(\"Mme. Geraldine travaille chez l'agence Caramba\")\n",
        "sentence8 = Sentence(\"Mme. Flint est Générale et travaille à la Prison d'Hambourg\")\n",
        "sentence9 = Sentence(\"Mme. Doe est juge et travaille au Tribunal Martial d'Helsinki\")\n",
        "sentence10 = Sentence('Mme. Posh a 40 ans et travaille au Tribunal Supérieur de Norvège')\n",
        "\n",
        "# predict NER tags\n",
        "tagger.predict(sentence1)\n",
        "tagger.predict(sentence2)\n",
        "tagger.predict(sentence3)\n",
        "tagger.predict(sentence4)\n",
        "tagger.predict(sentence5)\n",
        "tagger.predict(sentence6)\n",
        "tagger.predict(sentence7)\n",
        "tagger.predict(sentence8)\n",
        "tagger.predict(sentence9)\n",
        "tagger.predict(sentence10)\n",
        "\n",
        "# print sentence with predicted tags\n",
        "print(sentence1)\n",
        "print(sentence2)\n",
        "print(sentence3)\n",
        "print(sentence4)\n",
        "print(sentence5)\n",
        "print(sentence6)\n",
        "print(sentence7)\n",
        "print(sentence8)\n",
        "print(sentence9)\n",
        "print(sentence10)"
      ],
      "metadata": {
        "colab": {
          "base_uri": "https://localhost:8080/"
        },
        "id": "KrNZ2SNDq47D",
        "outputId": "0cb7bfdf-7c62-40b2-9d55-7a91004da5f6"
      },
      "execution_count": null,
      "outputs": [
        {
          "output_type": "stream",
          "name": "stdout",
          "text": [
            "Sentence[18]: \"M. Pierson est anglais et il est allé à Madrid le 13 juillet 2004 à 17 heures.\" → [\"M. Pierson\"/PER, \"Madrid\"/LOC, \"13 juillet 2004\"/DATETIME]\n",
            "Sentence[8]: \"Le numéro d'identification est le 1234/56P\" → [\"1234/56P\"/CODE]\n",
            "Sentence[6]: \"Un livre avec le code 123456P\"\n",
            "Sentence[19]: \"Mme. García a payé 500 euros (EUR) au médecin suite à une chirurgie esthétique du visage\" → [\"Mme. García\"/PER, \"500 euros\"/QUANTITY]\n",
            "Sentence[9]: \"M. Laurence a 100 livres sterling (GBP)\" → [\"M. Laurence\"/PER]\n",
            "Sentence[13]: \"Mme. York travaille chez l'Organisation Mondiale de la Santé (OMS)\" → [\"Mme. York\"/PER]\n",
            "Sentence[7]: \"Mme. Geraldine travaille chez l'agence Caramba\" → [\"Mme. Geraldine\"/PER]\n",
            "Sentence[11]: \"Mme. Flint est Générale et travaille à la Prison d'Hambourg\" → [\"Mme. Flint\"/PER, \"Prison d'Hambourg\"/ORG]\n",
            "Sentence[11]: \"Mme. Doe est juge et travaille au Tribunal Martial d'Helsinki\" → [\"Mme. Doe\"/PER, \"Tribunal Martial d'Helsinki\"/ORG]\n",
            "Sentence[13]: \"Mme. Posh a 40 ans et travaille au Tribunal Supérieur de Norvège\" → [\"Mme. Posh\"/PER]\n"
          ]
        }
      ]
    },
    {
      "cell_type": "markdown",
      "source": [
        "**Testing mariasierro/flair-ner-echr-es-rev** (sequence tagger trained on the subset of the Spanish corpus with reviewed projected annotations of 44 texts)"
      ],
      "metadata": {
        "id": "_hEOjq1_eul5"
      }
    },
    {
      "cell_type": "code",
      "source": [
        "from flair.models import SequenceTagger\n",
        "\n",
        "from flair.data import Sentence\n",
        "\n",
        "# load the model\n",
        "tagger = SequenceTagger.load(\"mariasierro/flair-ner-echr-es-rev\")\n",
        "\n",
        "# make a sentence\n",
        "sentence = Sentence('George Washington fue a Washington.')\n",
        "\n",
        "# predict NER tags\n",
        "tagger.predict(sentence)\n",
        "\n",
        "# print sentence with predicted tags\n",
        "print(sentence)"
      ],
      "metadata": {
        "colab": {
          "base_uri": "https://localhost:8080/",
          "height": 104,
          "referenced_widgets": [
            "6f9c1aee45f74f86ba08559398b10cd9",
            "568b896e34ab4e2185b7acec8ea91c41",
            "5f6045a5b6d4422cb3e99e214e4bea5a",
            "e208d9d49af04c9a918599786679f54c",
            "441a11593d634f0b96d2311674683585",
            "872c6b214c7c40f7b7a932f52b830356",
            "29bdf4c6ea634e0fa32ef7ebadfc9609",
            "6ea5e61f6a48437b9cbf1993d2b057d3",
            "53c0fde7a96f4cd98f1193d8aeb5124b",
            "7b141816452e4eea9ed218e59d916634",
            "ce53d8c477a841aa8cb47e5fd7adf214"
          ]
        },
        "id": "gi7f398VeyhS",
        "outputId": "2d2f4385-32bb-4225-f910-291e4e13bdae"
      },
      "execution_count": null,
      "outputs": [
        {
          "output_type": "display_data",
          "data": {
            "text/plain": [
              "pytorch_model.bin:   0%|          | 0.00/1.65G [00:00<?, ?B/s]"
            ],
            "application/vnd.jupyter.widget-view+json": {
              "version_major": 2,
              "version_minor": 0,
              "model_id": "6f9c1aee45f74f86ba08559398b10cd9"
            }
          },
          "metadata": {}
        },
        {
          "output_type": "stream",
          "name": "stdout",
          "text": [
            "2024-02-04 12:30:32,224 SequenceTagger predicts: Dictionary with 35 tags: O, S-DATETIME, B-DATETIME, E-DATETIME, I-DATETIME, S-PER, B-PER, E-PER, I-PER, S-ORG, B-ORG, E-ORG, I-ORG, S-LOC, B-LOC, E-LOC, I-LOC, S-DEM, B-DEM, E-DEM, I-DEM, S-QUANTITY, B-QUANTITY, E-QUANTITY, I-QUANTITY, S-MISC, B-MISC, E-MISC, I-MISC, S-CODE, B-CODE, E-CODE, I-CODE, <START>, <STOP>\n",
            "Sentence[6]: \"George Washington fue a Washington.\" → [\"George Washington\"/PER]\n"
          ]
        }
      ]
    },
    {
      "cell_type": "code",
      "source": [
        "# make a sentence\n",
        "sentence1 = Sentence('El Sr. Pierson es inglés y viajó a Madrid el 13 de julio de 2004 a las 5 p.m.')\n",
        "sentence2 = Sentence(\"El número identificativo es 1234/56P.\")\n",
        "sentence3 = Sentence(\"El número identificativo es 123456P.\")\n",
        "sentence4 = Sentence('La Sra. García pagó 500 euros (EUR) a su médico por una cirugía estética facial.')\n",
        "sentence5 = Sentence('El Sr. Laurence tiene 100 libras (GBP).')\n",
        "sentence6 = Sentence(\"La Sra. York trabaja en la Organización Mundial de la Salud (OMS).\")\n",
        "sentence7 = Sentence(\"La Sra. Geraldine trabaja en la agencia Caramba.\")\n",
        "sentence8 = Sentence(\"La Sra. Flint es General y trabaja en la Prisión Militar de Hamburgo.\")\n",
        "sentence9 = Sentence(\"La Sra. Doe es jueza y trabaja en el Tribunal Marcial de Helsinki.\")\n",
        "sentence10 = Sentence('La Sra. Posh tiene 40 años y trabaja en el Tribunal Superior de Noruega.')\n",
        "\n",
        "# predict NER tags\n",
        "tagger.predict(sentence1)\n",
        "tagger.predict(sentence2)\n",
        "tagger.predict(sentence3)\n",
        "tagger.predict(sentence4)\n",
        "tagger.predict(sentence5)\n",
        "tagger.predict(sentence6)\n",
        "tagger.predict(sentence7)\n",
        "tagger.predict(sentence8)\n",
        "tagger.predict(sentence9)\n",
        "tagger.predict(sentence10)\n",
        "\n",
        "# print sentence with predicted tags\n",
        "print(sentence1)\n",
        "print(sentence2)\n",
        "print(sentence3)\n",
        "print(sentence4)\n",
        "print(sentence5)\n",
        "print(sentence6)\n",
        "print(sentence7)\n",
        "print(sentence8)\n",
        "print(sentence9)\n",
        "print(sentence10)"
      ],
      "metadata": {
        "colab": {
          "base_uri": "https://localhost:8080/"
        },
        "id": "PBkMZ8b2e0J2",
        "outputId": "b64e0b63-39c4-4059-cc03-a225d26ab3b2"
      },
      "execution_count": null,
      "outputs": [
        {
          "output_type": "stream",
          "name": "stdout",
          "text": [
            "Sentence[20]: \"El Sr. Pierson es inglés y viajó a Madrid el 13 de julio de 2004 a las 5 p.m.\" → [\"Sr. Pierson\"/PER, \"13 de julio de 2004\"/DATETIME]\n",
            "Sentence[8]: \"El número identificativo es 1234/56P.\" → [\"1234/56P\"/CODE]\n",
            "Sentence[6]: \"El número identificativo es 123456P.\"\n",
            "Sentence[18]: \"La Sra. García pagó 500 euros (EUR) a su médico por una cirugía estética facial.\" → [\"500 euros (EUR\"/QUANTITY]\n",
            "Sentence[10]: \"El Sr. Laurence tiene 100 libras (GBP).\" → [\"Laurence\"/PER, \"100 libras (GBP\"/QUANTITY]\n",
            "Sentence[15]: \"La Sra. York trabaja en la Organización Mundial de la Salud (OMS).\"\n",
            "Sentence[9]: \"La Sra. Geraldine trabaja en la agencia Caramba.\" → [\"Geraldine\"/PER]\n",
            "Sentence[14]: \"La Sra. Flint es General y trabaja en la Prisión Militar de Hamburgo.\" → [\"La Sra. Flint\"/PER, \"Prisión Militar de Hamburgo\"/ORG]\n",
            "Sentence[14]: \"La Sra. Doe es jueza y trabaja en el Tribunal Marcial de Helsinki.\" → [\"Tribunal Marcial de Helsinki\"/ORG]\n",
            "Sentence[15]: \"La Sra. Posh tiene 40 años y trabaja en el Tribunal Superior de Noruega.\" → [\"Tribunal Superior de Noruega\"/ORG]\n"
          ]
        }
      ]
    },
    {
      "cell_type": "markdown",
      "source": [
        "**Testing mariasierro/flair-ner-echr-fr-rev** (sequence tagger trained on the subset of the French corpus with reviewed projected annotations of 32 texts)"
      ],
      "metadata": {
        "id": "2byYu6wZgn3Z"
      }
    },
    {
      "cell_type": "code",
      "source": [
        "#from flair.models import SequenceTagger\n",
        "\n",
        "#from flair.data import Sentence\n",
        "\n",
        "# load the model\n",
        "tagger = SequenceTagger.load(\"mariasierro/flair-ner-echr-fr-rev\")\n",
        "\n",
        "# make a sentence\n",
        "sentence = Sentence('George Washington est allé à Washington.')\n",
        "\n",
        "# predict NER tags\n",
        "tagger.predict(sentence)\n",
        "\n",
        "# print sentence with predicted tags\n",
        "print(sentence)"
      ],
      "metadata": {
        "colab": {
          "base_uri": "https://localhost:8080/",
          "height": 104,
          "referenced_widgets": [
            "9defe3cbb5ff40769bfe9e3d771273af",
            "230a0ecb45294ce391024261ccb32634",
            "65b879aa4840400b83f7b5ca244d24e2",
            "a980e896962d4d0593db847618089640",
            "eeeb4ced16ab4e8fafaa47bf5a4f669b",
            "9a5ed0ffcdea4259b4e41bc77ca53a58",
            "0be4778088d24a34895d1ecde5c8a648",
            "c591269212084f8ba4401987ba82ddf6",
            "51083224eb624679b6ff4dcbcab3c13c",
            "2ff19f0005ee42d9b11b323c83440b22",
            "28301ae348aa4e43b10642697e8d8f78"
          ]
        },
        "id": "xAnKvYushBGx",
        "outputId": "66076048-2feb-4852-b8d6-5982eed95f71"
      },
      "execution_count": null,
      "outputs": [
        {
          "output_type": "display_data",
          "data": {
            "text/plain": [
              "pytorch_model.bin:   0%|          | 0.00/1.30G [00:00<?, ?B/s]"
            ],
            "application/vnd.jupyter.widget-view+json": {
              "version_major": 2,
              "version_minor": 0,
              "model_id": "9defe3cbb5ff40769bfe9e3d771273af"
            }
          },
          "metadata": {}
        },
        {
          "output_type": "stream",
          "name": "stdout",
          "text": [
            "2024-02-04 12:33:17,780 SequenceTagger predicts: Dictionary with 35 tags: O, S-DATETIME, B-DATETIME, E-DATETIME, I-DATETIME, S-PER, B-PER, E-PER, I-PER, S-ORG, B-ORG, E-ORG, I-ORG, S-LOC, B-LOC, E-LOC, I-LOC, S-MISC, B-MISC, E-MISC, I-MISC, S-DEM, B-DEM, E-DEM, I-DEM, S-CODE, B-CODE, E-CODE, I-CODE, S-QUANTITY, B-QUANTITY, E-QUANTITY, I-QUANTITY, <START>, <STOP>\n",
            "Sentence[7]: \"George Washington est allé à Washington.\" → [\"George Washington\"/PER, \"Washington\"/LOC]\n"
          ]
        }
      ]
    },
    {
      "cell_type": "code",
      "source": [
        "# make a sentence\n",
        "sentence1 = Sentence('M. Pierson est anglais et il est allé à Madrid le 13 juillet 2004 à 17 heures.')\n",
        "sentence2 = Sentence(\"Le numéro d'identification est le 1234/56P\")\n",
        "sentence3 = Sentence(\"Un livre avec le code 123456P\")\n",
        "sentence4 = Sentence('Mme. García a payé 500 euros (EUR) au médecin suite à une chirurgie esthétique du visage')\n",
        "sentence5 = Sentence('M. Laurence a 100 livres sterling (GBP)')\n",
        "sentence6 = Sentence(\"Mme. York travaille chez l'Organisation Mondiale de la Santé (OMS)\")\n",
        "sentence7 = Sentence(\"Mme. Geraldine travaille chez l'agence Caramba\")\n",
        "sentence8 = Sentence(\"Mme. Flint est Générale et travaille à la Prison d'Hambourg\")\n",
        "sentence9 = Sentence(\"Mme. Doe est juge et travaille au Tribunal Martial d'Helsinki\")\n",
        "sentence10 = Sentence('Mme. Posh a 40 ans et travaille au Tribunal Supérieur de Norvège')\n",
        "\n",
        "# predict NER tags\n",
        "tagger.predict(sentence1)\n",
        "tagger.predict(sentence2)\n",
        "tagger.predict(sentence3)\n",
        "tagger.predict(sentence4)\n",
        "tagger.predict(sentence5)\n",
        "tagger.predict(sentence6)\n",
        "tagger.predict(sentence7)\n",
        "tagger.predict(sentence8)\n",
        "tagger.predict(sentence9)\n",
        "tagger.predict(sentence10)\n",
        "\n",
        "# print sentence with predicted tags\n",
        "print(sentence1)\n",
        "print(sentence2)\n",
        "print(sentence3)\n",
        "print(sentence4)\n",
        "print(sentence5)\n",
        "print(sentence6)\n",
        "print(sentence7)\n",
        "print(sentence8)\n",
        "print(sentence9)\n",
        "print(sentence10)"
      ],
      "metadata": {
        "colab": {
          "base_uri": "https://localhost:8080/"
        },
        "id": "D3MW5NX-h-qb",
        "outputId": "9dad9104-a912-44c7-f765-0e3fd2b0f8b1"
      },
      "execution_count": null,
      "outputs": [
        {
          "output_type": "stream",
          "name": "stdout",
          "text": [
            "Sentence[18]: \"M. Pierson est anglais et il est allé à Madrid le 13 juillet 2004 à 17 heures.\" → [\"M. Pierson\"/PER, \"Madrid\"/LOC, \"13 juillet 2004\"/DATETIME, \"17 heures\"/DATETIME]\n",
            "Sentence[8]: \"Le numéro d'identification est le 1234/56P\" → [\"1234/56P\"/CODE]\n",
            "Sentence[6]: \"Un livre avec le code 123456P\"\n",
            "Sentence[19]: \"Mme. García a payé 500 euros (EUR) au médecin suite à une chirurgie esthétique du visage\" → [\"Mme. García\"/PER]\n",
            "Sentence[9]: \"M. Laurence a 100 livres sterling (GBP)\" → [\"M. Laurence\"/PER]\n",
            "Sentence[13]: \"Mme. York travaille chez l'Organisation Mondiale de la Santé (OMS)\" → [\"Mme. York\"/PER]\n",
            "Sentence[7]: \"Mme. Geraldine travaille chez l'agence Caramba\" → [\"Mme. Geraldine\"/PER, \"l'agence\"/ORG, \"Caramba\"/PER]\n",
            "Sentence[11]: \"Mme. Flint est Générale et travaille à la Prison d'Hambourg\" → [\"Mme. Flint\"/PER, \"Prison\"/ORG, \"d'Hambourg\"/PER]\n",
            "Sentence[11]: \"Mme. Doe est juge et travaille au Tribunal Martial d'Helsinki\" → [\"Mme. Doe\"/PER, \"Tribunal Martial d'Helsinki\"/ORG]\n",
            "Sentence[13]: \"Mme. Posh a 40 ans et travaille au Tribunal Supérieur de Norvège\" → [\"Mme. Posh\"/PER, \"Tribunal Supérieur de\"/ORG, \"Norvège\"/LOC]\n"
          ]
        }
      ]
    },
    {
      "cell_type": "markdown",
      "source": [
        "**Testing mariasierro/flair-ner-echr-es-manual** (sequence tagger trained on the subset of the Spanish corpus with manual annotations of 44 texts)"
      ],
      "metadata": {
        "id": "1sCncZ9HilnX"
      }
    },
    {
      "cell_type": "code",
      "source": [
        "from flair.models import SequenceTagger\n",
        "\n",
        "from flair.data import Sentence\n",
        "\n",
        "# load the model\n",
        "tagger = SequenceTagger.load(\"mariasierro/flair-ner-echr-es-manual\")\n",
        "\n",
        "# make a sentence\n",
        "sentence = Sentence('George Washington fue a Washington.')\n",
        "\n",
        "# predict NER tags\n",
        "tagger.predict(sentence)\n",
        "\n",
        "# print sentence with predicted tags\n",
        "print(sentence)"
      ],
      "metadata": {
        "colab": {
          "base_uri": "https://localhost:8080/",
          "height": 208,
          "referenced_widgets": [
            "8f573d4473614375b6365462d0a96902",
            "08a53bd1658a4c1991805423aebae1a2",
            "0098aa0e5b784232b01bfd1110c8a3d9",
            "7b46ee1cc7764c06b91b27834ec58793",
            "035276bec750407bba03df2f38c92eae",
            "52da8d721a41453fb87de85931f6882c",
            "82c977b356924df1a5de8e39e36ae15a",
            "bc939a118acd4b3fb23f929ea8382101",
            "390c0db3bcb0477e8716c3bdd463fe48",
            "77e8065f4f244d71926edfec3befb802",
            "10b919c423d44f8f998256a60b9b6bd8"
          ]
        },
        "id": "sDpwm9o0llrf",
        "outputId": "32637500-930f-47fe-ea9f-b9c2228291a3"
      },
      "execution_count": 2,
      "outputs": [
        {
          "output_type": "stream",
          "name": "stderr",
          "text": [
            "/usr/local/lib/python3.10/dist-packages/huggingface_hub/utils/_token.py:88: UserWarning: \n",
            "The secret `HF_TOKEN` does not exist in your Colab secrets.\n",
            "To authenticate with the Hugging Face Hub, create a token in your settings tab (https://huggingface.co/settings/tokens), set it as secret in your Google Colab and restart your session.\n",
            "You will be able to reuse this secret in all of your notebooks.\n",
            "Please note that authentication is recommended but still optional to access public models or datasets.\n",
            "  warnings.warn(\n"
          ]
        },
        {
          "output_type": "display_data",
          "data": {
            "text/plain": [
              "pytorch_model.bin:   0%|          | 0.00/1.65G [00:00<?, ?B/s]"
            ],
            "application/vnd.jupyter.widget-view+json": {
              "version_major": 2,
              "version_minor": 0,
              "model_id": "8f573d4473614375b6365462d0a96902"
            }
          },
          "metadata": {}
        },
        {
          "output_type": "stream",
          "name": "stdout",
          "text": [
            "2024-02-08 23:18:11,037 SequenceTagger predicts: Dictionary with 47 tags: O, S-DATE, B-DATE, E-DATE, I-DATE, S-LOC, B-LOC, E-LOC, I-LOC, S-QUANTITY, B-QUANTITY, E-QUANTITY, I-QUANTITY, S-LEGAL_PROFESSIONAL, B-LEGAL_PROFESSIONAL, E-LEGAL_PROFESSIONAL, I-LEGAL_PROFESSIONAL, S-PER, B-PER, E-PER, I-PER, S-ORG, B-ORG, E-ORG, I-ORG, S-NATIONALITY, B-NATIONALITY, E-NATIONALITY, I-NATIONALITY, S-CODE, B-CODE, E-CODE, I-CODE, S-CURRENCY, B-CURRENCY, E-CURRENCY, I-CURRENCY, S-ETHNIC_CATEGORY, B-ETHNIC_CATEGORY, E-ETHNIC_CATEGORY, I-ETHNIC_CATEGORY, S-TIME, B-TIME, E-TIME, I-TIME, <START>, <STOP>\n",
            "Sentence[6]: \"George Washington fue a Washington.\" → [\"George Washington\"/LEGAL_PROFESSIONAL, \"Washington\"/LOC]\n"
          ]
        }
      ]
    },
    {
      "cell_type": "code",
      "source": [
        "# make a sentence\n",
        "sentence1 = Sentence('El Sr. Pierson es inglés y viajó a Madrid el 13 de julio de 2004 a las 5 p.m.')\n",
        "sentence2 = Sentence(\"El número identificativo es 1234/56P.\")\n",
        "sentence3 = Sentence(\"El número identificativo es 123456P.\")\n",
        "sentence4 = Sentence('La Sra. García pagó 500 euros (EUR) a su médico por una cirugía estética facial.')\n",
        "sentence5 = Sentence('El Sr. Laurence tiene 100 libras (GBP).')\n",
        "sentence6 = Sentence(\"La Sra. York trabaja en la Organización Mundial de la Salud (OMS).\")\n",
        "sentence7 = Sentence(\"La Sra. Geraldine trabaja en la agencia Caramba.\")\n",
        "sentence8 = Sentence(\"La Sra. Flint es General y trabaja en la Prisión Militar de Hamburgo.\")\n",
        "sentence9 = Sentence(\"La Sra. Doe es jueza y trabaja en el Tribunal Marcial de Helsinki.\")\n",
        "sentence10 = Sentence('La Sra. Posh tiene 40 años y trabaja en el Tribunal Superior de Noruega.')\n",
        "\n",
        "# predict NER tags\n",
        "tagger.predict(sentence1)\n",
        "tagger.predict(sentence2)\n",
        "tagger.predict(sentence3)\n",
        "tagger.predict(sentence4)\n",
        "tagger.predict(sentence5)\n",
        "tagger.predict(sentence6)\n",
        "tagger.predict(sentence7)\n",
        "tagger.predict(sentence8)\n",
        "tagger.predict(sentence9)\n",
        "tagger.predict(sentence10)\n",
        "\n",
        "# print sentence with predicted tags\n",
        "print(sentence1)\n",
        "print(sentence2)\n",
        "print(sentence3)\n",
        "print(sentence4)\n",
        "print(sentence5)\n",
        "print(sentence6)\n",
        "print(sentence7)\n",
        "print(sentence8)\n",
        "print(sentence9)\n",
        "print(sentence10)"
      ],
      "metadata": {
        "colab": {
          "base_uri": "https://localhost:8080/"
        },
        "id": "Co55e03OltHl",
        "outputId": "788f88bc-2224-4372-ca57-11e6eb987711"
      },
      "execution_count": 3,
      "outputs": [
        {
          "output_type": "stream",
          "name": "stdout",
          "text": [
            "Sentence[20]: \"El Sr. Pierson es inglés y viajó a Madrid el 13 de julio de 2004 a las 5 p.m.\" → [\"Pierson\"/LEGAL_PROFESSIONAL, \"Madrid\"/LOC, \"el 13 de julio de 2004\"/DATE, \"5 p.m\"/QUANTITY]\n",
            "Sentence[8]: \"El número identificativo es 1234/56P.\" → [\"1234/\"/CODE]\n",
            "Sentence[6]: \"El número identificativo es 123456P.\"\n",
            "Sentence[18]: \"La Sra. García pagó 500 euros (EUR) a su médico por una cirugía estética facial.\" → [\"500\"/QUANTITY, \"euros (EUR\"/CURRENCY]\n",
            "Sentence[10]: \"El Sr. Laurence tiene 100 libras (GBP).\" → [\"Laurence\"/LEGAL_PROFESSIONAL, \"100\"/QUANTITY, \"libras (GBP\"/CURRENCY]\n",
            "Sentence[15]: \"La Sra. York trabaja en la Organización Mundial de la Salud (OMS).\"\n",
            "Sentence[9]: \"La Sra. Geraldine trabaja en la agencia Caramba.\" → [\"Geraldine\"/LEGAL_PROFESSIONAL]\n",
            "Sentence[14]: \"La Sra. Flint es General y trabaja en la Prisión Militar de Hamburgo.\" → [\"Flint\"/LEGAL_PROFESSIONAL, \"Hamburgo\"/LOC]\n",
            "Sentence[14]: \"La Sra. Doe es jueza y trabaja en el Tribunal Marcial de Helsinki.\" → [\"Helsinki\"/LOC]\n",
            "Sentence[15]: \"La Sra. Posh tiene 40 años y trabaja en el Tribunal Superior de Noruega.\" → [\"40\"/QUANTITY, \"Noruega\"/LOC]\n"
          ]
        }
      ]
    },
    {
      "cell_type": "markdown",
      "source": [
        "**Testing mariasierro/flair-ner-ehcr-fr-manual** (sequence tagger trained on the French corpus with manual annotations of 32 texts)"
      ],
      "metadata": {
        "id": "xYkOzS6epJiS"
      }
    },
    {
      "cell_type": "code",
      "source": [
        "#from flair.models import SequenceTagger\n",
        "\n",
        "#from flair.data import Sentence\n",
        "\n",
        "# load the model\n",
        "tagger = SequenceTagger.load(\"mariasierro/flair-ner-echr-fr-manual\")\n",
        "\n",
        "# make a sentence\n",
        "sentence = Sentence('George Washington est allé à Washington.')\n",
        "\n",
        "# predict NER tags\n",
        "tagger.predict(sentence)\n",
        "\n",
        "# print sentence with predicted tags\n",
        "print(sentence)"
      ],
      "metadata": {
        "colab": {
          "base_uri": "https://localhost:8080/",
          "height": 104,
          "referenced_widgets": [
            "538f2180a5e34cd39adfd640b601c48b",
            "e53604b776764a3eaca3bef397e9d585",
            "dca30fb6ae434e7da25b6076670844e5",
            "223f9b59e79c473290b002cf53f59235",
            "261c2259ec4f4f74acb8718d830c094f",
            "faddd0a8be7f4957bb47799926ed21f3",
            "3cfbed0ea1864a95b44371d4f7547b27",
            "40e98236d9f94083b36c00cbb36dadea",
            "829cafcf88ed4d3185cb90f39a364a69",
            "474776e14f8543258a4d016bb7d86f52",
            "cfc92c84ebf74887a5cb487601b2bf42"
          ]
        },
        "id": "Viod1kU9pf_5",
        "outputId": "b2cac091-3c77-4996-b412-0df75a730040"
      },
      "execution_count": null,
      "outputs": [
        {
          "output_type": "display_data",
          "data": {
            "text/plain": [
              "pytorch_model.bin:   0%|          | 0.00/1.30G [00:00<?, ?B/s]"
            ],
            "application/vnd.jupyter.widget-view+json": {
              "version_major": 2,
              "version_minor": 0,
              "model_id": "538f2180a5e34cd39adfd640b601c48b"
            }
          },
          "metadata": {}
        },
        {
          "output_type": "stream",
          "name": "stdout",
          "text": [
            "2024-02-04 12:43:21,683 SequenceTagger predicts: Dictionary with 51 tags: O, S-DATE, B-DATE, E-DATE, I-DATE, S-LOC, B-LOC, E-LOC, I-LOC, S-LEGAL_PROFESSIONAL, B-LEGAL_PROFESSIONAL, E-LEGAL_PROFESSIONAL, I-LEGAL_PROFESSIONAL, S-PER, B-PER, E-PER, I-PER, S-QUANTITY, B-QUANTITY, E-QUANTITY, I-QUANTITY, S-ORG, B-ORG, E-ORG, I-ORG, S-NATIONALITY, B-NATIONALITY, E-NATIONALITY, I-NATIONALITY, S-CODE, B-CODE, E-CODE, I-CODE, S-CURRENCY, B-CURRENCY, E-CURRENCY, I-CURRENCY, S-ETHNIC_CATEGORY, B-ETHNIC_CATEGORY, E-ETHNIC_CATEGORY, I-ETHNIC_CATEGORY, S-TIME, B-TIME, E-TIME, I-TIME, S-DATETIME, B-DATETIME, E-DATETIME, I-DATETIME, <START>\n",
            "Sentence[7]: \"George Washington est allé à Washington.\" → [\"George Washington\"/PER, \"Washington\"/LOC]\n"
          ]
        }
      ]
    },
    {
      "cell_type": "code",
      "source": [
        "# make a sentence\n",
        "sentence1 = Sentence('M. Pierson est anglais et il est allé à Madrid le 13 juillet 2004 à 17 heures.')\n",
        "sentence2 = Sentence(\"Le numéro d'identification est le 1234/56P.\")\n",
        "sentence3 = Sentence(\"Un livre avec le code 123456P.\")\n",
        "sentence4 = Sentence('Mme. García a payé 500 euros (EUR) au médecin suite à une chirurgie esthétique du visage.')\n",
        "sentence5 = Sentence('M. Laurence a 100 livres sterling (GBP).')\n",
        "sentence6 = Sentence(\"Mme. York travaille chez l'Organisation Mondiale de la Santé (OMS).\")\n",
        "sentence7 = Sentence(\"Mme. Geraldine travaille chez l'agence Caramba.\")\n",
        "sentence8 = Sentence(\"Mme. Flint est Générale et travaille à la Prison d'Hambourg.\")\n",
        "sentence9 = Sentence(\"Mme. Doe est juge et travaille au Tribunal Martial d'Helsinki.\")\n",
        "sentence10 = Sentence('Mme. Posh a 40 ans et travaille au Tribunal Supérieur de Norvège.')\n",
        "\n",
        "# predict NER tags\n",
        "tagger.predict(sentence1)\n",
        "tagger.predict(sentence2)\n",
        "tagger.predict(sentence3)\n",
        "tagger.predict(sentence4)\n",
        "tagger.predict(sentence5)\n",
        "tagger.predict(sentence6)\n",
        "tagger.predict(sentence7)\n",
        "tagger.predict(sentence8)\n",
        "tagger.predict(sentence9)\n",
        "tagger.predict(sentence10)\n",
        "\n",
        "# print sentence with predicted tags\n",
        "print(sentence1)\n",
        "print(sentence2)\n",
        "print(sentence3)\n",
        "print(sentence4)\n",
        "print(sentence5)\n",
        "print(sentence6)\n",
        "print(sentence7)\n",
        "print(sentence8)\n",
        "print(sentence9)\n",
        "print(sentence10)"
      ],
      "metadata": {
        "colab": {
          "base_uri": "https://localhost:8080/"
        },
        "id": "zsxxHzgdptZ7",
        "outputId": "22eb6faa-214f-48a4-ddcd-b31b80c16ea9"
      },
      "execution_count": null,
      "outputs": [
        {
          "output_type": "stream",
          "name": "stdout",
          "text": [
            "Sentence[18]: \"M. Pierson est anglais et il est allé à Madrid le 13 juillet 2004 à 17 heures.\" → [\"M. Pierson\"/PER, \"Madrid\"/LOC, \"le 13 juillet 2004\"/DATE, \"17 heures\"/QUANTITY]\n",
            "Sentence[9]: \"Le numéro d'identification est le 1234/56P.\" → [\"le\"/DATE, \"1234/56P\"/CODE]\n",
            "Sentence[7]: \"Un livre avec le code 123456P.\"\n",
            "Sentence[20]: \"Mme. García a payé 500 euros (EUR) au médecin suite à une chirurgie esthétique du visage.\" → [\"Mme. García\"/PER, \"500\"/QUANTITY]\n",
            "Sentence[10]: \"M. Laurence a 100 livres sterling (GBP).\" → [\"M. Laurence\"/PER, \"100\"/QUANTITY]\n",
            "Sentence[14]: \"Mme. York travaille chez l'Organisation Mondiale de la Santé (OMS).\" → [\"Mme. York\"/LEGAL_PROFESSIONAL]\n",
            "Sentence[8]: \"Mme. Geraldine travaille chez l'agence Caramba.\" → [\"Mme. Geraldine\"/PER, \"Caramba\"/ORG]\n",
            "Sentence[12]: \"Mme. Flint est Générale et travaille à la Prison d'Hambourg.\" → [\"Mme. Flint\"/PER, \"Prison d'Hambourg\"/ORG]\n",
            "Sentence[12]: \"Mme. Doe est juge et travaille au Tribunal Martial d'Helsinki.\" → [\"Mme. Doe\"/PER, \"d'Helsinki\"/LOC]\n",
            "Sentence[14]: \"Mme. Posh a 40 ans et travaille au Tribunal Supérieur de Norvège.\" → [\"Mme. Posh\"/PER, \"40\"/QUANTITY, \"Norvège\"/LOC]\n"
          ]
        }
      ]
    }
  ]
}